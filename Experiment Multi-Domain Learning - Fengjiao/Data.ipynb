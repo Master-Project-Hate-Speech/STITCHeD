{
 "cells": [
  {
   "cell_type": "code",
   "id": "initial_id",
   "metadata": {
    "collapsed": true,
    "ExecuteTime": {
     "end_time": "2024-08-29T10:23:11.574096Z",
     "start_time": "2024-08-29T10:23:11.563964Z"
    }
   },
   "source": [
    "        import sqlite3\n",
    "\n",
    "conn = sqlite3.connect(r'../hate_speech_data.db')\n",
    "cursor = conn.cursor()"
   ],
   "outputs": [],
   "execution_count": 13
  },
  {
   "metadata": {
    "ExecuteTime": {
     "end_time": "2024-08-29T10:28:18.674453Z",
     "start_time": "2024-08-29T10:28:18.663286Z"
    }
   },
   "cell_type": "code",
   "source": "from fuzzySearch import search_and_count_labels",
   "id": "2e52d55e6b8c01f5",
   "outputs": [],
   "execution_count": 16
  },
  {
   "metadata": {
    "ExecuteTime": {
     "end_time": "2024-08-29T11:52:23.769498Z",
     "start_time": "2024-08-29T11:52:22.477947Z"
    }
   },
   "cell_type": "code",
   "source": "search_and_count_labels(conn, 'hate')",
   "id": "cc304cbb9af1cfc5",
   "outputs": [
    {
     "name": "stdout",
     "output_type": "stream",
     "text": [
      "dataset_id | count | label_names | label_definitions\n",
      "4 | 82288 | label, type | a binary variable, indicating whether or not the content has been identified as hateful. It takes two values: hate, nothate., a categorical variable, providing a secondary label for hateful content. For hate it can take five values: Animosity, Derogation, Dehumanization, Threatening and Support for Hateful Entities. Please see the paper for more detail. For nothate the 'type' is 'none'. In round 1 the 'type' was not given and is marked as 'notgiven'\n",
      "5 | 135556 | hate_speech_score | Continuous hate speech measure, where higher = more hateful and lower = less hateful. > 0.5 is approximately hate speech, < -1 is counter or supportive speech, and -1 to +0.5 is neutral or ambiguous \n",
      "6 | 3000 | HOF | if tweet text is hateful and offensive(Hateful) or neither hateful nor offensive(NonHateful)\n",
      "9 | 998 | isHate | \n",
      "11 | 16625 | TARGET | cover 6 main targets of hate, namely JEWS, LGBT+, MIGRANTS, MUSLIMS, PEOPLE OF COLOR (POC), WOMEN\n",
      "14 | 18661 | sentiment | To identify the hostility type of the tweet, we stick to the following conventions: (1) if the tweet sounds dangerous, it should be la beled as abusive; (2) according to the degree to which it spreads hate and the tone its author uses, it can be hateful, offensive or disrespectful; (3) if the tweet expresses or spreads fear out of ignorance against a group of individuals, it should be labeled as fearful; (4) otherwise it should be annotated as normal. We define this task to be multilabel.\n",
      "15 | 403688 | Label | the dataset has 4 labels: a. Negative: No hate speech is included in the tweet. b. Neutral: General tweet (add, prayer, no sentiment is included) c. Positive: A hate speech exists, bullying, sarcasm, racism, ...etc. d. Very positive: A severe hate speech exists; includes phrases that can cause fights, or very bad influence on people and society.\n",
      "16 | 713 | Label | Non_HS for non-hate-speech HS for hate speech\n",
      "17 | 13169 | HS | hate speech label, with 1 for yes and 0 for no\n",
      "18 | 572 | class | hate speech(HS) or not hate speech (Non_HS)\n",
      "20 | 11824 | label_gold, type | The type of hate assigned to hateful entries., The gold standard label (hateful/non-hateful) of the test case.\n",
      "21 | 6000 | hateful | hateful/non-hateful\n",
      "22 | 1528 | hateful | hateful/non-hateful\n",
      "23 | 4000 | label | hateful/non-hateful\n",
      "25 | 469 | HatespeechOrNot (Aggregated) | \n",
      "26 | 10996 | label | 0 = not-hate speech, 1 = hate speech\n",
      "27 | 9338 | task_2, task_1 | Hate and Offensive (HOF) and Non- Hate and offensive (NOT), (HATE) Hate speech - Posts under this class contain Hate speech content,(OFFN) Offenive - Posts under this class contain offensive content, (PRFN) Profane - These posts contain profane words\n"
     ]
    }
   ],
   "execution_count": 18
  },
  {
   "metadata": {
    "ExecuteTime": {
     "end_time": "2024-08-29T12:12:29.682044Z",
     "start_time": "2024-08-29T12:12:29.066960Z"
    }
   },
   "cell_type": "code",
   "source": [
    "import pandas as pd\n",
    "from sklearn.model_selection import train_test_split"
   ],
   "id": "dc16b8b7d2b1ae0f",
   "outputs": [],
   "execution_count": 37
  },
  {
   "metadata": {},
   "cell_type": "markdown",
   "source": "### 4 DGHD generated N/A",
   "id": "2b0d7899039a89d2"
  },
  {
   "metadata": {
    "ExecuteTime": {
     "end_time": "2024-08-29T12:05:27.074796Z",
     "start_time": "2024-08-29T12:05:26.601374Z"
    }
   },
   "cell_type": "code",
   "source": [
    "query = \"\"\"\n",
    "SELECT text.text, label.label_value as label\n",
    "FROM text\n",
    "JOIN label ON label.text_id = text.text_id\n",
    "WHERE text.dataset_id = 4 AND label.label_name = 'label';\n",
    "\"\"\"\n",
    "df = pd.read_sql_query(query, conn)"
   ],
   "id": "27131888c6c1a868",
   "outputs": [],
   "execution_count": 24
  },
  {
   "metadata": {
    "ExecuteTime": {
     "end_time": "2024-08-29T12:06:49.617057Z",
     "start_time": "2024-08-29T12:06:49.575952Z"
    }
   },
   "cell_type": "code",
   "source": [
    "print(len(df))\n",
    "print(df.describe())\n",
    "print(df['label'].value_counts())\n",
    "print(df.head(10))"
   ],
   "id": "a420ee48e7246ddc",
   "outputs": [
    {
     "name": "stdout",
     "output_type": "stream",
     "text": [
      "70422\n",
      "                            text  label\n",
      "count                      70422  70422\n",
      "unique                     41134      6\n",
      "top     Blacks are such pondlife   hate\n",
      "freq                           5  22175\n",
      "label\n",
      "hate       22175\n",
      "nothate    18969\n",
      "0           9776\n",
      "1.0         7141\n",
      "0.0         7141\n",
      "1           5220\n",
      "Name: count, dtype: int64\n",
      "                                                text    label\n",
      "0                                dalits are lowlives     hate\n",
      "1             gay people are a burden to our society     hate\n",
      "2                              Arabs are not welcome     hate\n",
      "3  I'm not saying we should actually eliminate he...     hate\n",
      "4                       bananas are for black people     hate\n",
      "5                          asian people are the shit  nothate\n",
      "6  women can not reproduce kids but men can in al...     hate\n",
      "7                i hate wearing black in the summer!  nothate\n",
      "8               Who cares what Chinese people think?     hate\n",
      "9         i try to punch a letter box when i see one     hate\n"
     ]
    }
   ],
   "execution_count": 28
  },
  {
   "metadata": {
    "ExecuteTime": {
     "end_time": "2024-08-29T12:09:06.749631Z",
     "start_time": "2024-08-29T12:09:06.719461Z"
    }
   },
   "cell_type": "code",
   "source": "df['label'] = df['label'].replace({'nothate': 0, '0.0':0, 'hate': 1, '1.0':1, '1':1, '0':0})",
   "id": "971a4ca11e7fb75c",
   "outputs": [],
   "execution_count": 33
  },
  {
   "metadata": {
    "ExecuteTime": {
     "end_time": "2024-08-29T12:09:09.118803Z",
     "start_time": "2024-08-29T12:09:09.108351Z"
    }
   },
   "cell_type": "code",
   "source": "print(df['label'].value_counts())",
   "id": "6b53357d5f3f5daa",
   "outputs": [
    {
     "name": "stdout",
     "output_type": "stream",
     "text": [
      "label\n",
      "0    35886\n",
      "1    34536\n",
      "Name: count, dtype: int64\n"
     ]
    }
   ],
   "execution_count": 34
  },
  {
   "metadata": {
    "ExecuteTime": {
     "end_time": "2024-08-29T12:09:49.299895Z",
     "start_time": "2024-08-29T12:09:49.254836Z"
    }
   },
   "cell_type": "code",
   "source": "df = df.drop_duplicates()",
   "id": "d228fe64f253b70d",
   "outputs": [],
   "execution_count": 35
  },
  {
   "metadata": {
    "ExecuteTime": {
     "end_time": "2024-08-29T12:09:56.669546Z",
     "start_time": "2024-08-29T12:09:56.656733Z"
    }
   },
   "cell_type": "code",
   "source": "print(df['label'].value_counts())",
   "id": "c63f2e583f8e5084",
   "outputs": [
    {
     "name": "stdout",
     "output_type": "stream",
     "text": [
      "label\n",
      "1    26421\n",
      "0    25592\n",
      "Name: count, dtype: int64\n"
     ]
    }
   ],
   "execution_count": 36
  },
  {
   "metadata": {
    "ExecuteTime": {
     "end_time": "2024-08-29T12:23:29.621928Z",
     "start_time": "2024-08-29T12:23:29.478304Z"
    }
   },
   "cell_type": "code",
   "source": [
    "df['dataset'] = 'DGHD'\n",
    "# train_df, test_df = train_test_split(df, test_size=0.2, random_state=42)\n",
    "# train_df['set'] = 'train'\n",
    "# test_df['set'] = 'test'\n",
    "# df = pd.concat([train_df, test_df])\n",
    "\n",
    "import os\n",
    "os.makedirs('data', exist_ok=True)\n",
    "file_path = os.path.join('data', 'DGHD.csv')\n",
    "df.to_csv(file_path, index=False)"
   ],
   "id": "bbdfc73355cb4f50",
   "outputs": [],
   "execution_count": 39
  },
  {
   "metadata": {},
   "cell_type": "markdown",
   "source": "### 5 MHS Youtube, Twitter, Reddit",
   "id": "e2ce2337b25df356"
  },
  {
   "metadata": {
    "ExecuteTime": {
     "end_time": "2024-08-29T12:26:19.671873Z",
     "start_time": "2024-08-29T12:26:19.119511Z"
    }
   },
   "cell_type": "code",
   "source": [
    "query = \"\"\"\n",
    "SELECT text.text, label.label_value as label\n",
    "FROM text\n",
    "JOIN label ON label.text_id = text.text_id\n",
    "WHERE text.dataset_id = 5 AND label.label_name = 'hate_speech_score';\n",
    "\"\"\"\n",
    "df = pd.read_sql_query(query, conn)"
   ],
   "id": "3bb305c583a0b37b",
   "outputs": [],
   "execution_count": 40
  },
  {
   "metadata": {
    "ExecuteTime": {
     "end_time": "2024-08-29T12:26:35.987201Z",
     "start_time": "2024-08-29T12:26:35.923122Z"
    }
   },
   "cell_type": "code",
   "source": [
    "print(len(df))\n",
    "print(df.describe())\n",
    "print(df.head(10))"
   ],
   "id": "ce769b1f5c7405dc",
   "outputs": [
    {
     "name": "stdout",
     "output_type": "stream",
     "text": [
      "135556\n",
      "                                                     text   label\n",
      "count                                              135556  135556\n",
      "unique                                              39565    1255\n",
      "top     JEW Get the fuck out of here you jewish son of...    2.73\n",
      "freq                                                  815    1581\n",
      "                                                text  label\n",
      "0  Yes indeed. She sort of reminds me of the elde...   -3.9\n",
      "1  The trans women reading this tweet right now i...  -6.52\n",
      "2  Question: These 4 broads who criticize America...   0.36\n",
      "3  It is about time for all illegals to go back t...   0.26\n",
      "4  For starters bend over the one in pink and kic...   1.54\n",
      "5  Sounds like the kinda wholsesome life I'd die ...  -4.93\n",
      "6  Who the fuck is this insignificant simple mind...   0.17\n",
      "7         Fuck off you insufferable retarded faggot.   2.08\n",
      "8  OMG! The EGO's of these young, young, inexperi...  -0.66\n",
      "9  Worthless whore, these tits with look nice wit...  -0.38\n"
     ]
    }
   ],
   "execution_count": 42
  },
  {
   "metadata": {
    "ExecuteTime": {
     "end_time": "2024-08-29T12:28:42.742536Z",
     "start_time": "2024-08-29T12:28:42.693847Z"
    }
   },
   "cell_type": "code",
   "source": "df['label'] = df['label'].astype(float).apply(lambda x: 1 if x > 0.5 else 0)",
   "id": "d4e8263f8b9547fa",
   "outputs": [],
   "execution_count": 44
  },
  {
   "metadata": {
    "ExecuteTime": {
     "end_time": "2024-08-29T12:29:01.796152Z",
     "start_time": "2024-08-29T12:29:01.786757Z"
    }
   },
   "cell_type": "code",
   "source": "print(df['label'].value_counts())",
   "id": "b6c31e9ac8c512ee",
   "outputs": [
    {
     "name": "stdout",
     "output_type": "stream",
     "text": [
      "label\n",
      "0    86508\n",
      "1    49048\n",
      "Name: count, dtype: int64\n"
     ]
    }
   ],
   "execution_count": 45
  },
  {
   "metadata": {
    "ExecuteTime": {
     "end_time": "2024-08-29T12:29:15.933153Z",
     "start_time": "2024-08-29T12:29:15.842347Z"
    }
   },
   "cell_type": "code",
   "source": "df = df.drop_duplicates()",
   "id": "f0ce60bb3c893b04",
   "outputs": [],
   "execution_count": 46
  },
  {
   "metadata": {
    "ExecuteTime": {
     "end_time": "2024-08-29T12:29:20.853496Z",
     "start_time": "2024-08-29T12:29:20.842391Z"
    }
   },
   "cell_type": "code",
   "source": "print(df['label'].value_counts())",
   "id": "5e7994f8cb1bab",
   "outputs": [
    {
     "name": "stdout",
     "output_type": "stream",
     "text": [
      "label\n",
      "0    29211\n",
      "1    10354\n",
      "Name: count, dtype: int64\n"
     ]
    }
   ],
   "execution_count": 47
  },
  {
   "metadata": {
    "ExecuteTime": {
     "end_time": "2024-08-29T12:30:11.094995Z",
     "start_time": "2024-08-29T12:30:10.954899Z"
    }
   },
   "cell_type": "code",
   "source": [
    "df['dataset'] = 'MHS'\n",
    "\n",
    "file_path = os.path.join('data', 'MHS.csv')\n",
    "df.to_csv(file_path, index=False)"
   ],
   "id": "bf379ff56fdd7b8",
   "outputs": [],
   "execution_count": 48
  },
  {
   "metadata": {},
   "cell_type": "markdown",
   "source": "### 6 USElection2020 Twitter",
   "id": "7a7bb972741de5b1"
  },
  {
   "metadata": {
    "ExecuteTime": {
     "end_time": "2024-08-29T12:33:17.865181Z",
     "start_time": "2024-08-29T12:33:17.470901Z"
    }
   },
   "cell_type": "code",
   "source": [
    "query = \"\"\"\n",
    "SELECT text.text, label.label_value as label\n",
    "FROM text\n",
    "JOIN label ON label.text_id = text.text_id\n",
    "WHERE text.dataset_id = 6 AND label.label_name = 'HOF';\n",
    "\"\"\"\n",
    "df = pd.read_sql_query(query, conn)"
   ],
   "id": "7a1191ec1bb3b7e5",
   "outputs": [],
   "execution_count": 49
  },
  {
   "metadata": {
    "ExecuteTime": {
     "end_time": "2024-08-29T12:33:27.449851Z",
     "start_time": "2024-08-29T12:33:27.435900Z"
    }
   },
   "cell_type": "code",
   "source": [
    "print(len(df))\n",
    "print(df.describe())\n",
    "print(df.head(10))"
   ],
   "id": "1f005fd793bc2ff3",
   "outputs": [
    {
     "name": "stdout",
     "output_type": "stream",
     "text": [
      "3000\n",
      "                                                     text        label\n",
      "count                                                3000         3000\n",
      "unique                                               2999            2\n",
      "top     The Democrat Party is in full meltdown! They l...  Non-Hateful\n",
      "freq                                                    2         2648\n",
      "                                                text        label\n",
      "0  @SukiRavan @ProgressPotato @MarkZuckerb0rg @JS...  Non-Hateful\n",
      "1  @Newsweek Are you freaking crazy????[NEWLINE]I...  Non-Hateful\n",
      "2  Undecided voters (and MAGATs alike);[NEWLINE]I...  Non-Hateful\n",
      "3  @cheaterwins @Hungry_For_More @DAYSORSHAY So a...  Non-Hateful\n",
      "4  @CNN Nancy Pelosi and the Dems wont do a deal ...  Non-Hateful\n",
      "5  @EvanAKilgore @PressSec @johnrobertsFox Looks ...  Non-Hateful\n",
      "6  @ACTforAmerica @realDonaldTrump We love him to...  Non-Hateful\n",
      "7  @realDonaldTrump I don't have a 401k #bidenhar...  Non-Hateful\n",
      "8  @kayleighmcenany @realDonaldTrump Omfg....THE ...  Non-Hateful\n",
      "9  So, the NY Post writes an article about Biden ...  Non-Hateful\n"
     ]
    }
   ],
   "execution_count": 50
  },
  {
   "metadata": {
    "ExecuteTime": {
     "end_time": "2024-08-29T12:34:15.125777Z",
     "start_time": "2024-08-29T12:34:15.115346Z"
    }
   },
   "cell_type": "code",
   "source": "df['label'] = df['label'].replace({'Non-Hateful': 0, 'Hateful':1})",
   "id": "c74355f394aac154",
   "outputs": [],
   "execution_count": 51
  },
  {
   "metadata": {
    "ExecuteTime": {
     "end_time": "2024-08-29T12:34:27.701119Z",
     "start_time": "2024-08-29T12:34:27.690Z"
    }
   },
   "cell_type": "code",
   "source": "print(df['label'].value_counts())",
   "id": "f28e0cdda7317d71",
   "outputs": [
    {
     "name": "stdout",
     "output_type": "stream",
     "text": [
      "label\n",
      "0    2648\n",
      "1     352\n",
      "Name: count, dtype: int64\n"
     ]
    }
   ],
   "execution_count": 52
  },
  {
   "metadata": {
    "ExecuteTime": {
     "end_time": "2024-08-29T12:34:51.949678Z",
     "start_time": "2024-08-29T12:34:51.943113Z"
    }
   },
   "cell_type": "code",
   "source": "df = df.drop_duplicates()",
   "id": "1f343c67d5969dfa",
   "outputs": [],
   "execution_count": 53
  },
  {
   "metadata": {
    "ExecuteTime": {
     "end_time": "2024-08-29T12:34:56.519091Z",
     "start_time": "2024-08-29T12:34:56.505851Z"
    }
   },
   "cell_type": "code",
   "source": "print(df['label'].value_counts())",
   "id": "4252fb8683cceed3",
   "outputs": [
    {
     "name": "stdout",
     "output_type": "stream",
     "text": [
      "label\n",
      "0    2648\n",
      "1     351\n",
      "Name: count, dtype: int64\n"
     ]
    }
   ],
   "execution_count": 54
  },
  {
   "metadata": {
    "ExecuteTime": {
     "end_time": "2024-08-29T12:35:43.574396Z",
     "start_time": "2024-08-29T12:35:43.550096Z"
    }
   },
   "cell_type": "code",
   "source": [
    "df['dataset'] = 'USElection2020'\n",
    "\n",
    "file_path = os.path.join('data', 'USElection2020.csv')\n",
    "df.to_csv(file_path, index=False)"
   ],
   "id": "4c01714fc5021ce5",
   "outputs": [],
   "execution_count": 55
  },
  {
   "metadata": {},
   "cell_type": "markdown",
   "source": "### 23 fox-comment",
   "id": "99146e13e7e59e5e"
  },
  {
   "metadata": {
    "ExecuteTime": {
     "end_time": "2024-08-29T12:55:04.423471Z",
     "start_time": "2024-08-29T12:55:04.066229Z"
    }
   },
   "cell_type": "code",
   "source": [
    "query = \"\"\"\n",
    "SELECT text.text, label.label_value as label\n",
    "FROM text\n",
    "JOIN label ON label.text_id = text.text_id\n",
    "WHERE text.dataset_id = 23 AND label.label_name = 'hateful';\n",
    "\"\"\"\n",
    "df = pd.read_sql_query(query, conn)"
   ],
   "id": "eb2c4eabbd7e4183",
   "outputs": [],
   "execution_count": 56
  },
  {
   "metadata": {
    "ExecuteTime": {
     "end_time": "2024-08-29T12:56:18.201983Z",
     "start_time": "2024-08-29T12:56:18.186015Z"
    }
   },
   "cell_type": "code",
   "source": [
    "print(len(df))\n",
    "print(df.describe())\n",
    "print(df.head(10))"
   ],
   "id": "1ad5bd7d4e9689a4",
   "outputs": [
    {
     "name": "stdout",
     "output_type": "stream",
     "text": [
      "5528\n",
      "                                                     text label\n",
      "count                                                5528  5528\n",
      "unique                                               3994     2\n",
      "top     Un inmigrante ghanés mata a un matrimonio en F...     0\n",
      "freq                                                    6  4017\n",
      "                                                text label\n",
      "0  Avión venezolano: ocho tripulantes coinciden e...     0\n",
      "1  Aquí pidiéndole consejos al amigo veneco pa so...     0\n",
      "2  @oamz Cínicos desinforman con guión preparado,...     0\n",
      "3                   @oamj No se chama dime tu 🤭🤭🤣😛😅😅     1\n",
      "4  Gobierno de Bélgica ustedes que albergan a Raf...     1\n",
      "5  A todas las personas que han tenido que movers...     0\n",
      "6  Y esto es lo que pasa cuando dejas a auténtico...     0\n",
      "7  Repudiamos los actos vandalicos y responsabili...     0\n",
      "8  @ohuj @osap @oaiw @oarq @oaqm @oaix @ofgz @oxt...     1\n",
      "9  @oxtr Eso me dijeron dos venezolanas en Miami,...     0\n"
     ]
    }
   ],
   "execution_count": 57
  },
  {
   "metadata": {
    "ExecuteTime": {
     "end_time": "2024-08-29T12:56:52.693960Z",
     "start_time": "2024-08-29T12:56:52.687849Z"
    }
   },
   "cell_type": "code",
   "source": "print(df['label'].value_counts())",
   "id": "2a7a69c44926c209",
   "outputs": [
    {
     "name": "stdout",
     "output_type": "stream",
     "text": [
      "label\n",
      "0    4017\n",
      "1    1511\n",
      "Name: count, dtype: int64\n"
     ]
    }
   ],
   "execution_count": 58
  },
  {
   "metadata": {
    "ExecuteTime": {
     "end_time": "2024-08-29T12:56:54.848365Z",
     "start_time": "2024-08-29T12:56:54.832295Z"
    }
   },
   "cell_type": "code",
   "source": "df = df.drop_duplicates()",
   "id": "8d0c1e9563746c7b",
   "outputs": [],
   "execution_count": 59
  },
  {
   "metadata": {
    "ExecuteTime": {
     "end_time": "2024-08-29T12:56:57.073328Z",
     "start_time": "2024-08-29T12:56:57.062237Z"
    }
   },
   "cell_type": "code",
   "source": "print(df['label'].value_counts())",
   "id": "fac2664ddd9ad2a9",
   "outputs": [
    {
     "name": "stdout",
     "output_type": "stream",
     "text": [
      "label\n",
      "0    3202\n",
      "1    1407\n",
      "Name: count, dtype: int64\n"
     ]
    }
   ],
   "execution_count": 60
  },
  {
   "metadata": {
    "ExecuteTime": {
     "end_time": "2024-08-29T12:57:28.045621Z",
     "start_time": "2024-08-29T12:57:28.024956Z"
    }
   },
   "cell_type": "code",
   "source": [
    "df['dataset'] = 'fox-comment'\n",
    "\n",
    "file_path = os.path.join('data', 'fox-comment.csv')\n",
    "df.to_csv(file_path, index=False)"
   ],
   "id": "315e7de7505cfb9d",
   "outputs": [],
   "execution_count": 61
  },
  {
   "metadata": {},
   "cell_type": "markdown",
   "source": "### 11 DIALOCONAN",
   "id": "b1e869aeef9b6aa6"
  },
  {
   "metadata": {
    "ExecuteTime": {
     "end_time": "2024-08-30T08:31:44.540268Z",
     "start_time": "2024-08-30T08:31:43.922376Z"
    }
   },
   "cell_type": "code",
   "source": [
    "query = \"\"\"\n",
    "SELECT text.text, label.label_value as label, text.source_id\n",
    "FROM text\n",
    "JOIN label ON label.text_id = text.text_id\n",
    "WHERE text.dataset_id = 11 AND label.label_name = 'type';\n",
    "\"\"\"\n",
    "df = pd.read_sql_query(query, conn)"
   ],
   "id": "8bec8463c013aa2d",
   "outputs": [],
   "execution_count": 75
  },
  {
   "metadata": {
    "ExecuteTime": {
     "end_time": "2024-08-30T08:30:46.268713Z",
     "start_time": "2024-08-30T08:30:46.256841Z"
    }
   },
   "cell_type": "code",
   "source": [
    "print(len(df))\n",
    "print(df.describe())\n",
    "print(df.head(10))"
   ],
   "id": "39c457884c68a3b",
   "outputs": [
    {
     "name": "stdout",
     "output_type": "stream",
     "text": [
      "39162\n",
      "       source_id\n",
      "count  12.000000\n",
      "mean    9.500000\n",
      "std     1.167748\n",
      "min     8.000000\n",
      "25%     8.750000\n",
      "50%     9.500000\n",
      "75%    10.250000\n",
      "max    11.000000\n",
      "                                                text     label  source_id\n",
      "0  We’ve just imported 20k ticking time bombs fro...  notgiven        8.0\n",
      "1  Surely people who also risked their lives to h...  notgiven        9.0\n",
      "2  Our own must always come first. We have at lea...  notgiven       10.0\n",
      "3  We also have at least 1 million empty homes. T...  notgiven       11.0\n",
      "4  Our soldiers are left to rot on our streets wh...  notgiven        NaN\n",
      "5  Neither of those statements is true. I saw sca...      none        NaN\n",
      "6  I’m a patriot, I care about the future of our ...  notgiven        NaN\n",
      "7  Can I suggest that greatness can be found in c...      none        NaN\n",
      "8  Only 1 day more before the end of Black Histor...  notgiven        NaN\n",
      "9                            What’s racist about it?  notgiven        NaN\n"
     ]
    }
   ],
   "execution_count": 72
  },
  {
   "metadata": {
    "ExecuteTime": {
     "end_time": "2024-08-30T08:29:07.496140Z",
     "start_time": "2024-08-30T08:29:07.483432Z"
    }
   },
   "cell_type": "code",
   "source": "print(df['label'].value_counts())",
   "id": "901583fff17fcc89",
   "outputs": [
    {
     "name": "stdout",
     "output_type": "stream",
     "text": [
      "label\n",
      "none                    10982\n",
      "HS                       8314\n",
      "CN                       8311\n",
      "derogation               6840\n",
      "animosity                1782\n",
      "notgiven                 1589\n",
      "threatening               443\n",
      "dehumanization            398\n",
      "dehumanizinglanguage      233\n",
      "threateninglanguage       203\n",
      "support                    67\n",
      "Name: count, dtype: int64\n"
     ]
    }
   ],
   "execution_count": 68
  },
  {
   "metadata": {
    "ExecuteTime": {
     "end_time": "2024-08-30T08:32:24.296762Z",
     "start_time": "2024-08-30T08:32:24.290675Z"
    }
   },
   "cell_type": "code",
   "source": "df = df.dropna(subset=['source_id'])",
   "id": "67fd8925f8088fc5",
   "outputs": [],
   "execution_count": 78
  },
  {
   "metadata": {
    "ExecuteTime": {
     "end_time": "2024-08-30T08:32:26.981165Z",
     "start_time": "2024-08-30T08:32:26.974166Z"
    }
   },
   "cell_type": "code",
   "source": "print(df['label'].value_counts())",
   "id": "e2b8ffc5a58177e4",
   "outputs": [
    {
     "name": "stdout",
     "output_type": "stream",
     "text": [
      "label\n",
      "notgiven               4\n",
      "HS                     2\n",
      "CN                     2\n",
      "threateninglanguage    2\n",
      "none                   1\n",
      "derogation             1\n",
      "Name: count, dtype: int64\n"
     ]
    }
   ],
   "execution_count": 79
  },
  {
   "metadata": {},
   "cell_type": "markdown",
   "source": "### 1 OLID\n",
   "id": "dd8b683a11ee4c12"
  },
  {
   "metadata": {
    "ExecuteTime": {
     "end_time": "2024-08-30T08:39:13.373937Z",
     "start_time": "2024-08-30T08:39:12.903679Z"
    }
   },
   "cell_type": "code",
   "source": [
    "query = \"\"\"\n",
    "SELECT text.text, label.label_value as label\n",
    "FROM text\n",
    "JOIN label ON label.text_id = text.text_id\n",
    "WHERE text.dataset_id = 2 AND label.label_name = 'subtask_a';\n",
    "\"\"\"\n",
    "df = pd.read_sql_query(query, conn)"
   ],
   "id": "b9ad647e75914e93",
   "outputs": [],
   "execution_count": 84
  },
  {
   "metadata": {
    "ExecuteTime": {
     "end_time": "2024-08-30T08:39:14.873154Z",
     "start_time": "2024-08-30T08:39:14.855813Z"
    }
   },
   "cell_type": "code",
   "source": [
    "print(len(df))\n",
    "print(df.describe())\n",
    "print(df.head(10))"
   ],
   "id": "5a7f8ddaf24cb0d8",
   "outputs": [
    {
     "name": "stdout",
     "output_type": "stream",
     "text": [
      "13768\n",
      "                                                     text  label\n",
      "count                                               13768  13768\n",
      "unique                                              13207      2\n",
      "top     @USER Looks Like The Jokes On Liberals Again. ...    NOT\n",
      "freq                                                    7   9185\n",
      "                                                text label\n",
      "0  @USER You said it. They're trying to prove tha...   OFF\n",
      "1  @USER @USER Congress tried Secret Shah Bano st...   OFF\n",
      "2  @USER @USER Cowards in masks. Antifa are the t...   NOT\n",
      "3                    @USER @USER @USER Antifa lives!   OFF\n",
      "4  @USER @USER She’s a class act isn’t she. Kim t...   NOT\n",
      "5  Political Unmasking of Team Trump Must Be Pros...   NOT\n",
      "6  #MOGG: #JacobReesMogg calls for @USER to #Chuc...   NOT\n",
      "7  @USER More misleading nonsense. It’s like you ...   NOT\n",
      "8  .@USER yet again siding with the .@USER and st...   NOT\n",
      "9  @USER @USER @USER @USER @USER @USER @USER @USE...   NOT\n"
     ]
    }
   ],
   "execution_count": 85
  },
  {
   "metadata": {
    "ExecuteTime": {
     "end_time": "2024-08-30T08:40:13.208856Z",
     "start_time": "2024-08-30T08:40:13.196788Z"
    }
   },
   "cell_type": "code",
   "source": "df['label'] = df['label'].replace({'NOT': 0, 'OFF':1})",
   "id": "72897b3072eb96e1",
   "outputs": [],
   "execution_count": 86
  },
  {
   "metadata": {
    "ExecuteTime": {
     "end_time": "2024-08-30T08:40:29.311565Z",
     "start_time": "2024-08-30T08:40:29.305965Z"
    }
   },
   "cell_type": "code",
   "source": "print(df['label'].value_counts())",
   "id": "2bb7884a89ec8665",
   "outputs": [
    {
     "name": "stdout",
     "output_type": "stream",
     "text": [
      "label\n",
      "0    9185\n",
      "1    4583\n",
      "Name: count, dtype: int64\n"
     ]
    }
   ],
   "execution_count": 87
  },
  {
   "metadata": {
    "ExecuteTime": {
     "end_time": "2024-08-30T08:40:48.625356Z",
     "start_time": "2024-08-30T08:40:48.610784Z"
    }
   },
   "cell_type": "code",
   "source": [
    "df = df.drop_duplicates()\n",
    "print(df['label'].value_counts())"
   ],
   "id": "6bc71320c1605647",
   "outputs": [
    {
     "name": "stdout",
     "output_type": "stream",
     "text": [
      "label\n",
      "0    8943\n",
      "1    4520\n",
      "Name: count, dtype: int64\n"
     ]
    }
   ],
   "execution_count": 89
  },
  {
   "metadata": {
    "ExecuteTime": {
     "end_time": "2024-08-30T08:41:17.928470Z",
     "start_time": "2024-08-30T08:41:17.825622Z"
    }
   },
   "cell_type": "code",
   "source": [
    "df['dataset'] = 'OLID19'\n",
    "\n",
    "file_path = os.path.join('data', 'OLID19.csv')\n",
    "df.to_csv(file_path, index=False)"
   ],
   "id": "4d96e75f2b355bc3",
   "outputs": [],
   "execution_count": 90
  }
 ],
 "metadata": {
  "kernelspec": {
   "display_name": "Python 3",
   "language": "python",
   "name": "python3"
  },
  "language_info": {
   "codemirror_mode": {
    "name": "ipython",
    "version": 2
   },
   "file_extension": ".py",
   "mimetype": "text/x-python",
   "name": "python",
   "nbconvert_exporter": "python",
   "pygments_lexer": "ipython2",
   "version": "2.7.6"
  }
 },
 "nbformat": 4,
 "nbformat_minor": 5
}
