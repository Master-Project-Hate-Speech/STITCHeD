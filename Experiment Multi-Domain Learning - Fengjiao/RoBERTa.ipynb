{
 "cells": [
  {
   "cell_type": "code",
   "id": "initial_id",
   "metadata": {
    "collapsed": true,
    "ExecuteTime": {
     "end_time": "2024-08-29T13:32:25.955777Z",
     "start_time": "2024-08-29T13:32:23.821528Z"
    }
   },
   "source": [
    "from transformers import RobertaModel, RobertaTokenizer\n",
    "from torch import nn\n",
    "\n",
    "# Load the tokenizer\n",
    "tokenizer = RobertaTokenizer.from_pretrained('roberta-base')\n",
    "# define the model\n",
    "class RobertaWithClassifier(nn.Module):\n",
    "    def __init__(self, model_name='roberta-base'):\n",
    "        super(RobertaWithClassifier, self).__init__()\n",
    "        # only keep the deep features\n",
    "        self.roberta = RobertaModel.from_pretrained(model_name, output_hidden_states=True)\n",
    "        self.classifier = nn.Linear(self.roberta.config.hidden_size, 1)\n",
    "\n",
    "    def forward(self, input_ids, attention_mask):\n",
    "        outputs = self.roberta(input_ids=input_ids, attention_mask=attention_mask)\n",
    "        cls_output = outputs.last_hidden_state[:, 0, :]\n",
    "        return self.classifier(cls_output).squeeze(-1)"
   ],
   "outputs": [
    {
     "name": "stderr",
     "output_type": "stream",
     "text": [
      "C:\\Users\\Fionnuala Ji\\anaconda3\\Lib\\site-packages\\huggingface_hub\\file_download.py:1132: FutureWarning: `resume_download` is deprecated and will be removed in version 1.0.0. Downloads always resume when possible. If you want to force a new download, use `force_download=True`.\n",
      "  warnings.warn(\n"
     ]
    }
   ],
   "execution_count": 1
  },
  {
   "metadata": {
    "ExecuteTime": {
     "end_time": "2024-08-29T13:32:29.853940Z",
     "start_time": "2024-08-29T13:32:29.833803Z"
    }
   },
   "cell_type": "code",
   "source": [
    "import torch\n",
    "from torch.utils.data import Dataset, DataLoader\n",
    "\n",
    "class DataFrameDataset(Dataset):\n",
    "    def __init__(self, dataframe, tokenizer, max_len=128):\n",
    "        self.dataframe = dataframe\n",
    "        self.tokenizer = tokenizer\n",
    "        self.max_len = max_len\n",
    "\n",
    "    def __len__(self):\n",
    "        return len(self.dataframe)\n",
    "\n",
    "    def __getitem__(self, idx):\n",
    "        # df.columns = [text, label, ...]\n",
    "        text = self.dataframe.iloc[idx, 0]\n",
    "        label = self.dataframe.iloc[idx, 1]\n",
    "\n",
    "        # tokenizer\n",
    "        encoding = self.tokenizer(\n",
    "            text,\n",
    "            truncation=True,\n",
    "            padding='max_length',\n",
    "            max_length=self.max_len,\n",
    "            return_tensors='pt'\n",
    "        )\n",
    "\n",
    "        return {\n",
    "            'input_ids': encoding['input_ids'].squeeze(0),\n",
    "            'attention_mask': encoding['attention_mask'].squeeze(0),\n",
    "            'labels': torch.tensor(label, dtype=torch.float)\n",
    "        }"
   ],
   "id": "278904681ba8eb73",
   "outputs": [],
   "execution_count": 2
  },
  {
   "metadata": {
    "ExecuteTime": {
     "end_time": "2024-08-29T13:32:32.766847Z",
     "start_time": "2024-08-29T13:32:32.753326Z"
    }
   },
   "cell_type": "code",
   "source": [
    "def train_model(model, dataloader, optimizer, loss_fn, device, epochs=3):\n",
    "    model.train()\n",
    "    for epoch in range(epochs):\n",
    "        print(f\"Epoch {epoch + 1}/{epochs}\")\n",
    "        total_loss = 0\n",
    "\n",
    "        for batch in dataloader:\n",
    "            input_ids = batch['input_ids'].to(device)\n",
    "            attention_mask = batch['attention_mask'].to(device)\n",
    "            labels = batch['labels'].to(device)\n",
    "\n",
    "            optimizer.zero_grad()\n",
    "            outputs = model(input_ids=input_ids, attention_mask=attention_mask)\n",
    "            loss = loss_fn(outputs, labels)\n",
    "            loss.backward()\n",
    "            optimizer.step()\n",
    "\n",
    "            total_loss += loss.item()\n",
    "\n",
    "        avg_loss = total_loss / len(dataloader)\n",
    "        print(f\"Average Loss: {avg_loss:.4f}\")\n",
    "        \n",
    "def evaluate_model(model, dataloader, device):\n",
    "    model.eval()\n",
    "    correct_predictions = 0\n",
    "    total_predictions = 0\n",
    "\n",
    "    with torch.no_grad():\n",
    "        for batch in dataloader:\n",
    "            input_ids = batch['input_ids'].to(device)\n",
    "            attention_mask = batch['attention_mask'].to(device)\n",
    "            labels = batch['labels'].to(device)\n",
    "\n",
    "            outputs = model(input_ids=input_ids, attention_mask=attention_mask)\n",
    "            probs = torch.sigmoid(outputs)\n",
    "            predictions = (probs > 0.5)\n",
    "\n",
    "            correct_predictions += torch.sum(predictions == labels)\n",
    "            total_predictions += labels.size(0)\n",
    "\n",
    "    accuracy = correct_predictions.double() / total_predictions\n",
    "    print(f\"Test Accuracy: {accuracy.item():.4f}\")\n",
    "    return accuracy.item()"
   ],
   "id": "cf50b2c91f9ad408",
   "outputs": [],
   "execution_count": 3
  },
  {
   "metadata": {
    "jupyter": {
     "is_executing": true
    },
    "ExecuteTime": {
     "start_time": "2024-08-29T13:32:58.332970Z"
    }
   },
   "cell_type": "code",
   "source": [
    "import pandas as pd\n",
    "from Sampler import *\n",
    "\n",
    "device = torch.device(\"cuda\" if torch.cuda.is_available() else \"cpu\")\n",
    "# Load datasets\n",
    "data1 = pd.read_csv('data/DGHD.csv')  \n",
    "data2 = pd.read_csv('data/MHS.csv')   # Load DGHD, MHS as mixed_df for training\n",
    "fox_df = pd.read_csv('data/fox-comment.csv')  # Load fox-comment as test_df\n",
    "\n",
    "# Define the mix ratios from 100% DGHD to 50% DGHD in steps of 10%\n",
    "ratios = [1.0, 0.9, 0.8, 0.7, 0.6, 0.5]\n",
    "total_count = 50000\n",
    "\n",
    "# Loop through each ratio\n",
    "for ratio in ratios:\n",
    "    # Calculate the number of samples from each dataset\n",
    "    num_data1_samples = int(ratio * total_count)\n",
    "    num_data2_samples = int((1 - ratio) * total_count)\n",
    "\n",
    "    # Sample the datasets accordingly\n",
    "    sampled_data1 = balanced_fixedcount(data1, num_data1_samples, 'label')\n",
    "    sampled_data2 = balanced_fixedcount(data2, num_data2_samples, 'label')\n",
    "\n",
    "    # Concatenate the sampled datasets to create the mixed dataset\n",
    "    mixed_df = pd.concat([sampled_data1, sampled_data2], ignore_index=True)\n",
    "\n",
    "    # Initialize the model\n",
    "    model = RobertaWithClassifier().to(device)\n",
    "\n",
    "    # Set up the optimizer and loss function\n",
    "    optimizer = torch.optim.AdamW(model.parameters(), lr=2e-5)\n",
    "    loss_fn = nn.BCEWithLogitsLoss()\n",
    "\n",
    "    # Prepare the datasets and dataloaders\n",
    "    train_dataset = DataFrameDataset(dataframe=mixed_df, tokenizer=tokenizer)\n",
    "    test_dataset = DataFrameDataset(dataframe=fox_df, tokenizer=tokenizer)\n",
    "    train_loader = DataLoader(train_dataset, batch_size=2, shuffle=True)\n",
    "    test_loader = DataLoader(test_dataset, batch_size=2, shuffle=False)\n",
    "\n",
    "    # Print the current mixing settings\n",
    "    print(f\"Training with {ratio*100:.0f}% DGHD and {(1-ratio)*100:.0f}% MHS\")\n",
    "    \n",
    "    # Train and evaluate the model\n",
    "    train_model(model, train_loader, optimizer, loss_fn, device, epochs=3)\n",
    "    evaluate_model(model, test_loader, device)"
   ],
   "id": "dad7d15116f42677",
   "outputs": [
    {
     "name": "stderr",
     "output_type": "stream",
     "text": [
      "C:\\Users\\Fionnuala Ji\\anaconda3\\Lib\\site-packages\\huggingface_hub\\file_download.py:1132: FutureWarning: `resume_download` is deprecated and will be removed in version 1.0.0. Downloads always resume when possible. If you want to force a new download, use `force_download=True`.\n",
      "  warnings.warn(\n",
      "Some weights of the model checkpoint at roberta-base were not used when initializing RobertaModel: ['lm_head.layer_norm.bias', 'lm_head.dense.weight', 'lm_head.layer_norm.weight', 'lm_head.bias', 'lm_head.dense.bias']\n",
      "- This IS expected if you are initializing RobertaModel from the checkpoint of a model trained on another task or with another architecture (e.g. initializing a BertForSequenceClassification model from a BertForPreTraining model).\n",
      "- This IS NOT expected if you are initializing RobertaModel from the checkpoint of a model that you expect to be exactly identical (initializing a BertForSequenceClassification model from a BertForSequenceClassification model).\n",
      "Some weights of RobertaModel were not initialized from the model checkpoint at roberta-base and are newly initialized: ['roberta.pooler.dense.weight', 'roberta.pooler.dense.bias']\n",
      "You should probably TRAIN this model on a down-stream task to be able to use it for predictions and inference.\n"
     ]
    },
    {
     "name": "stdout",
     "output_type": "stream",
     "text": [
      "Training with 100% DGHD and 0% MHS\n",
      "Epoch 1/3\n"
     ]
    }
   ],
   "execution_count": null
  }
 ],
 "metadata": {
  "kernelspec": {
   "display_name": "Python 3",
   "language": "python",
   "name": "python3"
  },
  "language_info": {
   "codemirror_mode": {
    "name": "ipython",
    "version": 2
   },
   "file_extension": ".py",
   "mimetype": "text/x-python",
   "name": "python",
   "nbconvert_exporter": "python",
   "pygments_lexer": "ipython2",
   "version": "2.7.6"
  }
 },
 "nbformat": 4,
 "nbformat_minor": 5
}
