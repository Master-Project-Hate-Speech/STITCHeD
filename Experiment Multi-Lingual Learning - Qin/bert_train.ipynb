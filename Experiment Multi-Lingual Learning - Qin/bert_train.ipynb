{
  "cells": [
    {
      "cell_type": "code",
      "execution_count": 5,
      "metadata": {
        "id": "9GHHW202vRcU"
      },
      "outputs": [],
      "source": [
        "import torch\n",
        "import pandas as pd\n",
        "import re\n",
        "from string import punctuation\n",
        "from transformers import BertModel, BertTokenizer\n",
        "from torch.utils.data import Dataset, DataLoader\n",
        "from sklearn.model_selection import train_test_split\n",
        "from sklearn.metrics import accuracy_score, classification_report, confusion_matrix\n",
        "from torch import nn, optim\n",
        "from tqdm import tqdm\n",
        "import seaborn as sns\n",
        "import matplotlib.pyplot as plt\n",
        "\n",
        "# GPU/CPU device setup\n",
        "def get_device():\n",
        "    if torch.cuda.is_available():\n",
        "        device = torch.device(\"cuda\")\n",
        "        print('There are %d GPU(s) available.' % torch.cuda.device_count())\n",
        "        print('Use the GPU:', torch.cuda.get_device_name(0))\n",
        "    else:\n",
        "        print('No GPU available, using the CPU instead.')\n",
        "        device = torch.device(\"cpu\")\n",
        "    return device\n",
        "\n",
        "# Data cleaning function\n",
        "def clean_text(tweet):\n",
        "    tweet = re.sub(r\"@[A-Za-z0-9_-]+\", 'USR', tweet)\n",
        "    tweet = re.sub(r\"http\\S+\", 'URL', tweet)\n",
        "    tweet = tweet.replace('\\n', ' ').replace('\\t', ' ')\n",
        "    tweet = tweet.translate(str.maketrans('', '', punctuation))\n",
        "    tweet = tweet.replace('„', '').replace('“', '')\n",
        "    tweet = re.sub(r'[^\\w\\s,]', '', tweet)\n",
        "    tweet = tweet.strip()\n",
        "    return tweet\n",
        "\n",
        "# Dataset class\n",
        "class BERTDataset(Dataset):\n",
        "    def __init__(self, data, tokenizer, max_length=280):\n",
        "        self.tok = tokenizer\n",
        "        self.cleaned_tweets = data['text'].apply(lambda x: clean_text(x))\n",
        "        self.tweets = list(self.cleaned_tweets.apply(self.tok.encode, max_length=max_length, truncation=True))\n",
        "        self.labels = list(data['label_value'])\n",
        "\n",
        "    def __len__(self):\n",
        "        return len(self.labels)\n",
        "\n",
        "    def __getitem__(self, idx):\n",
        "        tweet = self.tweets[idx]\n",
        "        label = self.labels[idx]\n",
        "        return tweet, label\n",
        "\n",
        "# Collate function for DataLoader\n",
        "def bert_collate(batch):\n",
        "    batch_size = len(batch)\n",
        "    tweets = [t for t, _ in batch]\n",
        "    labels = torch.tensor([l for _, l in batch]).long()\n",
        "    max_len = max(len(t) for t in tweets)\n",
        "    tweets_pad = torch.zeros((batch_size, max_len)).long()\n",
        "    masks_pad = torch.zeros((batch_size, max_len)).long()\n",
        "    for i, t in enumerate(tweets):\n",
        "        tweets_pad[i, :len(t)] = torch.tensor(t)\n",
        "        masks_pad[i, :len(t)] = 1\n",
        "    return tweets_pad, masks_pad, labels\n",
        "\n",
        "# BERT Classifier\n",
        "class BERTClassifier(nn.Module):\n",
        "    def __init__(self, model_name):\n",
        "        super(BERTClassifier, self).__init__()\n",
        "        self.bert = BertModel.from_pretrained(model_name)\n",
        "        self.linear = nn.Linear(768, 2)\n",
        "        self.dropout = nn.Dropout(0.2)\n",
        "\n",
        "        # Freeze BERT layers\n",
        "        for n, p in self.bert.named_parameters():\n",
        "            p.requires_grad = False\n",
        "\n",
        "    def forward(self, tweets, masks):\n",
        "        output_bert = self.bert(tweets, attention_mask=masks)[0].mean(axis=1)\n",
        "        return self.linear(self.dropout(output_bert))\n",
        "\n",
        "# Training and validation function\n",
        "def train_model(model, train_loader, dev_loader, device, optimizer, criterion, epochs=5):\n",
        "    for epoch_i in range(epochs):\n",
        "        model.train()\n",
        "        for i, batch in enumerate(tqdm(train_loader)):\n",
        "            optimizer.zero_grad()\n",
        "            tweets, masks, labels = [t.to(device) for t in batch]\n",
        "            output = model(tweets, masks)\n",
        "            loss = criterion(output, labels)\n",
        "            loss.backward()\n",
        "            torch.nn.utils.clip_grad_norm_(model.parameters(), 1.0)\n",
        "            optimizer.step()\n",
        "\n",
        "        model.eval()\n",
        "        y_true, y_pred = [], []\n",
        "        with torch.no_grad():\n",
        "            for batch in dev_loader:\n",
        "                tweets, masks, labels = [t.to(device) for t in batch]\n",
        "                output = model(tweets, masks)\n",
        "                max_output = output.argmax(dim=1)\n",
        "                y_true.extend(labels.tolist())\n",
        "                y_pred.extend(max_output.tolist())\n",
        "        print(f\"Accuracy after {epoch_i + 1} epoch(s): {accuracy_score(y_true, y_pred)}\")\n",
        "\n",
        "# Evaluation function\n",
        "def evaluate_model(model, test_loader, device):\n",
        "    model.eval()\n",
        "    y_true, y_pred = [], []\n",
        "    with torch.no_grad():\n",
        "        for batch in test_loader:\n",
        "            tweets, masks, labels = [t.to(device) for t in batch]\n",
        "            output = model(tweets, masks)\n",
        "            max_output = output.argmax(dim=1)\n",
        "            y_true.extend(labels.tolist())\n",
        "            y_pred.extend(max_output.tolist())\n",
        "\n",
        "    # Print accuracy and classification report\n",
        "    print('Test accuracy: {:.2f}'.format(accuracy_score(y_true, y_pred)))\n",
        "    print('\\nClassification report: \\n', classification_report(y_true, y_pred))\n",
        "\n",
        "    # Generate confusion matrix\n",
        "    conf_mat = confusion_matrix(y_true, y_pred)\n",
        "\n",
        "    # Plot confusion matrix\n",
        "    sns.heatmap(conf_mat, annot=True, fmt='d', cmap='Blues')\n",
        "    plt.xlabel('Predicted Label')\n",
        "    plt.ylabel('True Label')\n",
        "    plt.title('Confusion Matrix')\n",
        "    plt.show()\n",
        "\n",
        "# Function to run the entire process\n",
        "def run_bert_training(model_name, language):\n",
        "    device = get_device()\n",
        "\n",
        "    # Load dataset\n",
        "    csv_file = \"FINAL_resampled_multilingual_all_data.csv\"\n",
        "    resampled_df = pd.read_csv(csv_file)\n",
        "    df = resampled_df[resampled_df['language'] == language]\n",
        "\n",
        "    # Split data\n",
        "    train, test = train_test_split(df, test_size=0.2, stratify=df['label_value'])\n",
        "    train, dev = train_test_split(train, test_size=0.25, stratify=train['label_value'])\n",
        "\n",
        "    tokenizer = BertTokenizer.from_pretrained(model_name)\n",
        "    train_dataset = BERTDataset(train, tokenizer)\n",
        "    dev_dataset = BERTDataset(dev, tokenizer)\n",
        "    test_dataset = BERTDataset(test, tokenizer)\n",
        "\n",
        "    train_loader = DataLoader(train_dataset, batch_size=100, collate_fn=bert_collate, shuffle=True)\n",
        "    dev_loader = DataLoader(dev_dataset, batch_size=100, collate_fn=bert_collate)\n",
        "    test_loader = DataLoader(test_dataset, batch_size=100, collate_fn=bert_collate)\n",
        "\n",
        "    model = BERTClassifier(model_name)\n",
        "    model = model.to(device)\n",
        "\n",
        "    optimizer = optim.Adam(model.parameters(), lr=0.01)\n",
        "    criterion = nn.CrossEntropyLoss()\n",
        "\n",
        "    train_model(model, train_loader, dev_loader, device, optimizer, criterion)\n",
        "    evaluate_model(model, test_loader, device)"
      ]
    },
    {
      "cell_type": "code",
      "execution_count": 6,
      "metadata": {
        "colab": {
          "base_uri": "https://localhost:8080/",
          "height": 913
        },
        "id": "lahzBwzivUtk",
        "outputId": "39accb0f-66e9-4100-97f7-fd6953320dc3"
      },
      "outputs": [
        {
          "name": "stdout",
          "output_type": "stream",
          "text": [
            "There are 1 GPU(s) available.\n",
            "Use the GPU: Tesla T4\n"
          ]
        },
        {
          "name": "stderr",
          "output_type": "stream",
          "text": [
            "100%|██████████| 56/56 [00:56<00:00,  1.01s/it]\n"
          ]
        },
        {
          "name": "stdout",
          "output_type": "stream",
          "text": [
            "Accuracy after 1 epoch(s): 0.6293519014461704\n"
          ]
        },
        {
          "name": "stderr",
          "output_type": "stream",
          "text": [
            "100%|██████████| 56/56 [00:53<00:00,  1.04it/s]\n"
          ]
        },
        {
          "name": "stdout",
          "output_type": "stream",
          "text": [
            "Accuracy after 2 epoch(s): 0.6304231387252276\n"
          ]
        },
        {
          "name": "stderr",
          "output_type": "stream",
          "text": [
            "100%|██████████| 56/56 [00:55<00:00,  1.00it/s]\n"
          ]
        },
        {
          "name": "stdout",
          "output_type": "stream",
          "text": [
            "Accuracy after 3 epoch(s): 0.6175682913765399\n"
          ]
        },
        {
          "name": "stderr",
          "output_type": "stream",
          "text": [
            "100%|██████████| 56/56 [00:55<00:00,  1.01it/s]\n"
          ]
        },
        {
          "name": "stdout",
          "output_type": "stream",
          "text": [
            "Accuracy after 4 epoch(s): 0.6411355115158007\n"
          ]
        },
        {
          "name": "stderr",
          "output_type": "stream",
          "text": [
            "100%|██████████| 56/56 [00:56<00:00,  1.00s/it]\n"
          ]
        },
        {
          "name": "stdout",
          "output_type": "stream",
          "text": [
            "Accuracy after 5 epoch(s): 0.6384574183181575\n",
            "Test accuracy: 0.65\n",
            "\n",
            "Classification report: \n",
            "               precision    recall  f1-score   support\n",
            "\n",
            "           0       0.66      0.61      0.64       933\n",
            "           1       0.64      0.69      0.66       934\n",
            "\n",
            "    accuracy                           0.65      1867\n",
            "   macro avg       0.65      0.65      0.65      1867\n",
            "weighted avg       0.65      0.65      0.65      1867\n",
            "\n"
          ]
        },
        {
          "data": {
            "image/png": "[encoded data removed]",
            "text/plain": [
              "<Figure size 640x480 with 2 Axes>"
            ]
          },
          "metadata": {},
          "output_type": "display_data"
        }
      ],
      "source": [
        "run_bert_training(\"bert-base-cased\", \"eng\")"
      ]
    },
    {
      "cell_type": "code",
      "execution_count": 9,
      "metadata": {
        "colab": {
          "base_uri": "https://localhost:8080/",
          "height": 913
        },
        "id": "1Genl0n7weAe",
        "outputId": "28ae9718-114b-48e3-c86e-3999011dd4fd"
      },
      "outputs": [
        {
          "name": "stdout",
          "output_type": "stream",
          "text": [
            "There are 1 GPU(s) available.\n",
            "Use the GPU: Tesla T4\n"
          ]
        },
        {
          "name": "stderr",
          "output_type": "stream",
          "text": [
            "100%|██████████| 56/56 [00:45<00:00,  1.23it/s]\n"
          ]
        },
        {
          "name": "stdout",
          "output_type": "stream",
          "text": [
            "Accuracy after 1 epoch(s): 0.6775575790037494\n"
          ]
        },
        {
          "name": "stderr",
          "output_type": "stream",
          "text": [
            "100%|██████████| 56/56 [00:43<00:00,  1.29it/s]\n"
          ]
        },
        {
          "name": "stdout",
          "output_type": "stream",
          "text": [
            "Accuracy after 2 epoch(s): 0.6850562399571505\n"
          ]
        },
        {
          "name": "stderr",
          "output_type": "stream",
          "text": [
            "100%|██████████| 56/56 [00:43<00:00,  1.28it/s]\n"
          ]
        },
        {
          "name": "stdout",
          "output_type": "stream",
          "text": [
            "Accuracy after 3 epoch(s): 0.6684520621317622\n"
          ]
        },
        {
          "name": "stderr",
          "output_type": "stream",
          "text": [
            "100%|██████████| 56/56 [00:43<00:00,  1.29it/s]\n"
          ]
        },
        {
          "name": "stdout",
          "output_type": "stream",
          "text": [
            "Accuracy after 4 epoch(s): 0.6877343331547938\n"
          ]
        },
        {
          "name": "stderr",
          "output_type": "stream",
          "text": [
            "100%|██████████| 56/56 [00:42<00:00,  1.33it/s]\n"
          ]
        },
        {
          "name": "stdout",
          "output_type": "stream",
          "text": [
            "Accuracy after 5 epoch(s): 0.6582753079807178\n",
            "Test accuracy: 0.69\n",
            "\n",
            "Classification report: \n",
            "               precision    recall  f1-score   support\n",
            "\n",
            "           0       0.66      0.78      0.72       934\n",
            "           1       0.73      0.61      0.66       933\n",
            "\n",
            "    accuracy                           0.69      1867\n",
            "   macro avg       0.70      0.69      0.69      1867\n",
            "weighted avg       0.70      0.69      0.69      1867\n",
            "\n"
          ]
        },
        {
          "data": {
            "image/png": "[encoded data removed]",
            "text/plain": [
              "<Figure size 640x480 with 2 Axes>"
            ]
          },
          "metadata": {},
          "output_type": "display_data"
        }
      ],
      "source": [
        "run_bert_training(\"bert-base-german-cased\", \"ger\")"
      ]
    },
    {
      "cell_type": "code",
      "execution_count": 14,
      "metadata": {
        "colab": {
          "base_uri": "https://localhost:8080/",
          "height": 913
        },
        "id": "sWTKJN4RwgAE",
        "outputId": "2eea1dc5-34f1-4923-8cc2-60ae87e2f275"
      },
      "outputs": [
        {
          "name": "stdout",
          "output_type": "stream",
          "text": [
            "There are 1 GPU(s) available.\n",
            "Use the GPU: Tesla T4\n"
          ]
        },
        {
          "name": "stderr",
          "output_type": "stream",
          "text": [
            "100%|██████████| 56/56 [00:59<00:00,  1.07s/it]\n"
          ]
        },
        {
          "name": "stdout",
          "output_type": "stream",
          "text": [
            "Accuracy after 1 epoch(s): 0.6089983931440814\n"
          ]
        },
        {
          "name": "stderr",
          "output_type": "stream",
          "text": [
            "100%|██████████| 56/56 [00:59<00:00,  1.07s/it]\n"
          ]
        },
        {
          "name": "stdout",
          "output_type": "stream",
          "text": [
            "Accuracy after 2 epoch(s): 0.6132833422603107\n"
          ]
        },
        {
          "name": "stderr",
          "output_type": "stream",
          "text": [
            "100%|██████████| 56/56 [00:57<00:00,  1.02s/it]\n"
          ]
        },
        {
          "name": "stdout",
          "output_type": "stream",
          "text": [
            "Accuracy after 3 epoch(s): 0.6116764863417247\n"
          ]
        },
        {
          "name": "stderr",
          "output_type": "stream",
          "text": [
            "100%|██████████| 56/56 [00:58<00:00,  1.04s/it]\n"
          ]
        },
        {
          "name": "stdout",
          "output_type": "stream",
          "text": [
            "Accuracy after 4 epoch(s): 0.6277450455275844\n"
          ]
        },
        {
          "name": "stderr",
          "output_type": "stream",
          "text": [
            "100%|██████████| 56/56 [01:00<00:00,  1.08s/it]\n"
          ]
        },
        {
          "name": "stdout",
          "output_type": "stream",
          "text": [
            "Accuracy after 5 epoch(s): 0.6138189608998393\n",
            "Test accuracy: 0.62\n",
            "\n",
            "Classification report: \n",
            "               precision    recall  f1-score   support\n",
            "\n",
            "           0       0.62      0.62      0.62       933\n",
            "           1       0.62      0.62      0.62       934\n",
            "\n",
            "    accuracy                           0.62      1867\n",
            "   macro avg       0.62      0.62      0.62      1867\n",
            "weighted avg       0.62      0.62      0.62      1867\n",
            "\n"
          ]
        },
        {
          "data": {
            "image/png": "[encoded data removed]",
            "text/plain": [
              "<Figure size 640x480 with 2 Axes>"
            ]
          },
          "metadata": {},
          "output_type": "display_data"
        }
      ],
      "source": [
        "run_bert_training(\"bert-base-multilingual-cased\", \"eng\")"
      ]
    },
    {
      "cell_type": "code",
      "execution_count": 15,
      "metadata": {
        "colab": {
          "base_uri": "https://localhost:8080/",
          "height": 913
        },
        "id": "duyCRCGGwhgQ",
        "outputId": "f3f04f5d-3384-49eb-975e-34151240e68f"
      },
      "outputs": [
        {
          "name": "stdout",
          "output_type": "stream",
          "text": [
            "There are 1 GPU(s) available.\n",
            "Use the GPU: Tesla T4\n"
          ]
        },
        {
          "name": "stderr",
          "output_type": "stream",
          "text": [
            "100%|██████████| 56/56 [00:47<00:00,  1.18it/s]\n"
          ]
        },
        {
          "name": "stdout",
          "output_type": "stream",
          "text": [
            "Accuracy after 1 epoch(s): 0.6336368505623996\n"
          ]
        },
        {
          "name": "stderr",
          "output_type": "stream",
          "text": [
            "100%|██████████| 56/56 [00:51<00:00,  1.09it/s]\n"
          ]
        },
        {
          "name": "stdout",
          "output_type": "stream",
          "text": [
            "Accuracy after 2 epoch(s): 0.6647027316550616\n"
          ]
        },
        {
          "name": "stderr",
          "output_type": "stream",
          "text": [
            "100%|██████████| 56/56 [00:51<00:00,  1.08it/s]\n"
          ]
        },
        {
          "name": "stdout",
          "output_type": "stream",
          "text": [
            "Accuracy after 3 epoch(s): 0.6647027316550616\n"
          ]
        },
        {
          "name": "stderr",
          "output_type": "stream",
          "text": [
            "100%|██████████| 56/56 [00:50<00:00,  1.12it/s]\n"
          ]
        },
        {
          "name": "stdout",
          "output_type": "stream",
          "text": [
            "Accuracy after 4 epoch(s): 0.676486341724692\n"
          ]
        },
        {
          "name": "stderr",
          "output_type": "stream",
          "text": [
            "100%|██████████| 56/56 [00:49<00:00,  1.13it/s]\n"
          ]
        },
        {
          "name": "stdout",
          "output_type": "stream",
          "text": [
            "Accuracy after 5 epoch(s): 0.6657739689341189\n",
            "Test accuracy: 0.67\n",
            "\n",
            "Classification report: \n",
            "               precision    recall  f1-score   support\n",
            "\n",
            "           0       0.67      0.69      0.68       934\n",
            "           1       0.68      0.66      0.67       933\n",
            "\n",
            "    accuracy                           0.67      1867\n",
            "   macro avg       0.67      0.67      0.67      1867\n",
            "weighted avg       0.67      0.67      0.67      1867\n",
            "\n"
          ]
        },
        {
          "data": {
            "image/png": "[encoded data removed]",
            "text/plain": [
              "<Figure size 640x480 with 2 Axes>"
            ]
          },
          "metadata": {},
          "output_type": "display_data"
        }
      ],
      "source": [
        "run_bert_training(\"bert-base-multilingual-cased\", \"ger\")"
      ]
    },
    {
      "cell_type": "code",
      "execution_count": 17,
      "metadata": {
        "colab": {
          "base_uri": "https://localhost:8080/",
          "height": 913
        },
        "id": "HbdZzXd2zOaW",
        "outputId": "2acc6f63-d49c-40ae-d462-2869fa17a9ed"
      },
      "outputs": [
        {
          "name": "stdout",
          "output_type": "stream",
          "text": [
            "There are 1 GPU(s) available.\n",
            "Use the GPU: Tesla T4\n"
          ]
        },
        {
          "name": "stderr",
          "output_type": "stream",
          "text": [
            "100%|██████████| 56/56 [00:56<00:00,  1.02s/it]\n"
          ]
        },
        {
          "name": "stdout",
          "output_type": "stream",
          "text": [
            "Accuracy after 1 epoch(s): 0.626673808248527\n"
          ]
        },
        {
          "name": "stderr",
          "output_type": "stream",
          "text": [
            "100%|██████████| 56/56 [00:53<00:00,  1.04it/s]\n"
          ]
        },
        {
          "name": "stdout",
          "output_type": "stream",
          "text": [
            "Accuracy after 2 epoch(s): 0.6545259775040171\n"
          ]
        },
        {
          "name": "stderr",
          "output_type": "stream",
          "text": [
            "100%|██████████| 56/56 [00:53<00:00,  1.04it/s]\n"
          ]
        },
        {
          "name": "stdout",
          "output_type": "stream",
          "text": [
            "Accuracy after 3 epoch(s): 0.6405998928762721\n"
          ]
        },
        {
          "name": "stderr",
          "output_type": "stream",
          "text": [
            "100%|██████████| 56/56 [00:55<00:00,  1.01it/s]\n"
          ]
        },
        {
          "name": "stdout",
          "output_type": "stream",
          "text": [
            "Accuracy after 4 epoch(s): 0.6432779860739154\n"
          ]
        },
        {
          "name": "stderr",
          "output_type": "stream",
          "text": [
            "100%|██████████| 56/56 [00:52<00:00,  1.06it/s]\n"
          ]
        },
        {
          "name": "stdout",
          "output_type": "stream",
          "text": [
            "Accuracy after 5 epoch(s): 0.64542046063203\n",
            "Test accuracy: 0.67\n",
            "\n",
            "Classification report: \n",
            "               precision    recall  f1-score   support\n",
            "\n",
            "           0       0.71      0.58      0.64       934\n",
            "           1       0.64      0.77      0.70       933\n",
            "\n",
            "    accuracy                           0.67      1867\n",
            "   macro avg       0.68      0.67      0.67      1867\n",
            "weighted avg       0.68      0.67      0.67      1867\n",
            "\n"
          ]
        },
        {
          "data": {
            "image/png": "[encoded data removed]",
            "text/plain": [
              "<Figure size 640x480 with 2 Axes>"
            ]
          },
          "metadata": {},
          "output_type": "display_data"
        }
      ],
      "source": [
        "run_bert_training(\"bert-base-uncased\", \"eng\")"
      ]
    },
    {
      "cell_type": "code",
      "execution_count": 18,
      "metadata": {
        "colab": {
          "base_uri": "https://localhost:8080/",
          "height": 913
        },
        "id": "FN_oGj5W6kft",
        "outputId": "3b5af893-a1d2-410b-a86b-48c25ff7ba21"
      },
      "outputs": [
        {
          "name": "stdout",
          "output_type": "stream",
          "text": [
            "There are 1 GPU(s) available.\n",
            "Use the GPU: Tesla T4\n"
          ]
        },
        {
          "name": "stderr",
          "output_type": "stream",
          "text": [
            "100%|██████████| 56/56 [01:19<00:00,  1.43s/it]\n"
          ]
        },
        {
          "name": "stdout",
          "output_type": "stream",
          "text": [
            "Accuracy after 1 epoch(s): 0.5570433851098018\n"
          ]
        },
        {
          "name": "stderr",
          "output_type": "stream",
          "text": [
            "100%|██████████| 56/56 [01:22<00:00,  1.48s/it]\n"
          ]
        },
        {
          "name": "stdout",
          "output_type": "stream",
          "text": [
            "Accuracy after 2 epoch(s): 0.5329405463310123\n"
          ]
        },
        {
          "name": "stderr",
          "output_type": "stream",
          "text": [
            "100%|██████████| 56/56 [01:23<00:00,  1.50s/it]\n"
          ]
        },
        {
          "name": "stdout",
          "output_type": "stream",
          "text": [
            "Accuracy after 3 epoch(s): 0.499196572040707\n"
          ]
        },
        {
          "name": "stderr",
          "output_type": "stream",
          "text": [
            "100%|██████████| 56/56 [01:21<00:00,  1.46s/it]\n"
          ]
        },
        {
          "name": "stdout",
          "output_type": "stream",
          "text": [
            "Accuracy after 4 epoch(s): 0.5640064274236744\n"
          ]
        },
        {
          "name": "stderr",
          "output_type": "stream",
          "text": [
            "100%|██████████| 56/56 [01:23<00:00,  1.49s/it]\n"
          ]
        },
        {
          "name": "stdout",
          "output_type": "stream",
          "text": [
            "Accuracy after 5 epoch(s): 0.5286555972147831\n",
            "Test accuracy: 0.53\n",
            "\n",
            "Classification report: \n",
            "               precision    recall  f1-score   support\n",
            "\n",
            "           0       0.71      0.10      0.18       934\n",
            "           1       0.52      0.96      0.67       933\n",
            "\n",
            "    accuracy                           0.53      1867\n",
            "   macro avg       0.61      0.53      0.43      1867\n",
            "weighted avg       0.61      0.53      0.43      1867\n",
            "\n"
          ]
        },
        {
          "data": {
            "image/png": "[encoded data removed]",
            "text/plain": [
              "<Figure size 640x480 with 2 Axes>"
            ]
          },
          "metadata": {},
          "output_type": "display_data"
        }
      ],
      "source": [
        "run_bert_training(\"bert-base-german-cased\", \"eng\")"
      ]
    },
    {
      "cell_type": "code",
      "execution_count": 19,
      "metadata": {
        "colab": {
          "base_uri": "https://localhost:8080/",
          "height": 913
        },
        "id": "LkfDQusq6oq9",
        "outputId": "16bdbe95-9352-44ce-d59a-1d0f830c81d7"
      },
      "outputs": [
        {
          "name": "stdout",
          "output_type": "stream",
          "text": [
            "There are 1 GPU(s) available.\n",
            "Use the GPU: Tesla T4\n"
          ]
        },
        {
          "name": "stderr",
          "output_type": "stream",
          "text": [
            "100%|██████████| 56/56 [01:16<00:00,  1.37s/it]\n"
          ]
        },
        {
          "name": "stdout",
          "output_type": "stream",
          "text": [
            "Accuracy after 1 epoch(s): 0.5923942153186931\n"
          ]
        },
        {
          "name": "stderr",
          "output_type": "stream",
          "text": [
            "100%|██████████| 56/56 [01:16<00:00,  1.37s/it]\n"
          ]
        },
        {
          "name": "stdout",
          "output_type": "stream",
          "text": [
            "Accuracy after 2 epoch(s): 0.5640064274236744\n"
          ]
        },
        {
          "name": "stderr",
          "output_type": "stream",
          "text": [
            "100%|██████████| 56/56 [01:17<00:00,  1.38s/it]\n"
          ]
        },
        {
          "name": "stdout",
          "output_type": "stream",
          "text": [
            "Accuracy after 3 epoch(s): 0.5720407070166041\n"
          ]
        },
        {
          "name": "stderr",
          "output_type": "stream",
          "text": [
            "100%|██████████| 56/56 [01:16<00:00,  1.37s/it]\n"
          ]
        },
        {
          "name": "stdout",
          "output_type": "stream",
          "text": [
            "Accuracy after 4 epoch(s): 0.5736475629351901\n"
          ]
        },
        {
          "name": "stderr",
          "output_type": "stream",
          "text": [
            "100%|██████████| 56/56 [01:15<00:00,  1.34s/it]\n"
          ]
        },
        {
          "name": "stdout",
          "output_type": "stream",
          "text": [
            "Accuracy after 5 epoch(s): 0.5923942153186931\n",
            "Test accuracy: 0.58\n",
            "\n",
            "Classification report: \n",
            "               precision    recall  f1-score   support\n",
            "\n",
            "           0       0.56      0.79      0.65       934\n",
            "           1       0.64      0.38      0.47       933\n",
            "\n",
            "    accuracy                           0.58      1867\n",
            "   macro avg       0.60      0.58      0.56      1867\n",
            "weighted avg       0.60      0.58      0.56      1867\n",
            "\n"
          ]
        },
        {
          "data": {
            "image/png": "[encoded data removed]",
            "text/plain": [
              "<Figure size 640x480 with 2 Axes>"
            ]
          },
          "metadata": {},
          "output_type": "display_data"
        }
      ],
      "source": [
        "run_bert_training(\"bert-base-cased\", \"ger\")"
      ]
    }
  ],
  "metadata": {
    "accelerator": "GPU",
    "colab": {
      "gpuType": "T4",
      "provenance": []
    },
    "kernelspec": {
      "display_name": "Python 3",
      "name": "python3"
    },
    "language_info": {
      "name": "python"
    }
  },
  "nbformat": 4,
  "nbformat_minor": 0
}
