{
 "cells": [
  {
   "cell_type": "code",
   "execution_count": 133,
   "metadata": {
    "collapsed": true,
    "ExecuteTime": {
     "end_time": "2024-03-29T09:12:23.589755Z",
     "start_time": "2024-03-29T09:12:23.571736300Z"
    }
   },
   "outputs": [],
   "source": [
    "import pandas as pd\n",
    "import numpy as np\n",
    "import psycopg2\n",
    "from config import load_config"
   ]
  },
  {
   "cell_type": "code",
   "execution_count": 134,
   "outputs": [],
   "source": [
    "def insert_many_vendors(dbtable_name, col_list, value_list):\n",
    "    \"\"\" Insert multiple vendors into the vendors table  \"\"\"\n",
    "    cols = ','.join(col_list)\n",
    "    sql = \"INSERT INTO {0}({1}) VALUES \".format(dbtable_name, cols) + \"(\" + \",\".join([\"%s\"] * len(col_list)) + \")\"\n",
    "    print(sql)\n",
    "    config = load_config()\n",
    "    rows = []\n",
    "\n",
    "    try:\n",
    "        with  psycopg2.connect(**config) as conn:\n",
    "            with  conn.cursor() as cur:\n",
    "                # execute the INSERT statement\n",
    "                cur.executemany(sql, value_list)\n",
    "                conn.commit()\n",
    "\n",
    "    except (Exception, psycopg2.DatabaseError) as error:\n",
    "        print(error)\n",
    "    finally:\n",
    "        return rows"
   ],
   "metadata": {
    "collapsed": false,
    "ExecuteTime": {
     "end_time": "2024-03-29T09:12:23.938376900Z",
     "start_time": "2024-03-29T09:12:23.924799200Z"
    }
   }
  },
  {
   "cell_type": "code",
   "execution_count": 135,
   "outputs": [],
   "source": [
    "df = pd.read_csv(\"./OLID_2019/olid-training-v1.0.tsv\", sep=\"\\t\")"
   ],
   "metadata": {
    "collapsed": false,
    "ExecuteTime": {
     "end_time": "2024-03-29T09:12:24.836675900Z",
     "start_time": "2024-03-29T09:12:24.795304400Z"
    }
   }
  },
  {
   "cell_type": "code",
   "execution_count": 136,
   "outputs": [
    {
     "data": {
      "text/plain": "          id                                              tweet subtask_a  \\\n0      86426  @USER She should ask a few native Americans wh...       OFF   \n1      90194  @USER @USER Go home you’re drunk!!! @USER #MAG...       OFF   \n2      16820  Amazon is investigating Chinese employees who ...       NOT   \n3      62688  @USER Someone should'veTaken\" this piece of sh...       OFF   \n4      43605  @USER @USER Obama wanted liberals &amp; illega...       NOT   \n...      ...                                                ...       ...   \n13235  95338  @USER Sometimes I get strong vibes from people...       OFF   \n13236  67210  Benidorm ✅  Creamfields ✅  Maga ✅   Not too sh...       NOT   \n13237  82921  @USER And why report this garbage.  We don't g...       OFF   \n13238  27429                                        @USER Pussy       OFF   \n13239  46552  #Spanishrevenge vs. #justice #HumanRights and ...       NOT   \n\n      subtask_b subtask_c  \n0           UNT       NaN  \n1           TIN       IND  \n2           NaN       NaN  \n3           UNT       NaN  \n4           NaN       NaN  \n...         ...       ...  \n13235       TIN       IND  \n13236       NaN       NaN  \n13237       TIN       OTH  \n13238       UNT       NaN  \n13239       NaN       NaN  \n\n[13240 rows x 5 columns]",
      "text/html": "<div>\n<style scoped>\n    .dataframe tbody tr th:only-of-type {\n        vertical-align: middle;\n    }\n\n    .dataframe tbody tr th {\n        vertical-align: top;\n    }\n\n    .dataframe thead th {\n        text-align: right;\n    }\n</style>\n<table border=\"1\" class=\"dataframe\">\n  <thead>\n    <tr style=\"text-align: right;\">\n      <th></th>\n      <th>id</th>\n      <th>tweet</th>\n      <th>subtask_a</th>\n      <th>subtask_b</th>\n      <th>subtask_c</th>\n    </tr>\n  </thead>\n  <tbody>\n    <tr>\n      <th>0</th>\n      <td>86426</td>\n      <td>@USER She should ask a few native Americans wh...</td>\n      <td>OFF</td>\n      <td>UNT</td>\n      <td>NaN</td>\n    </tr>\n    <tr>\n      <th>1</th>\n      <td>90194</td>\n      <td>@USER @USER Go home you’re drunk!!! @USER #MAG...</td>\n      <td>OFF</td>\n      <td>TIN</td>\n      <td>IND</td>\n    </tr>\n    <tr>\n      <th>2</th>\n      <td>16820</td>\n      <td>Amazon is investigating Chinese employees who ...</td>\n      <td>NOT</td>\n      <td>NaN</td>\n      <td>NaN</td>\n    </tr>\n    <tr>\n      <th>3</th>\n      <td>62688</td>\n      <td>@USER Someone should'veTaken\" this piece of sh...</td>\n      <td>OFF</td>\n      <td>UNT</td>\n      <td>NaN</td>\n    </tr>\n    <tr>\n      <th>4</th>\n      <td>43605</td>\n      <td>@USER @USER Obama wanted liberals &amp;amp; illega...</td>\n      <td>NOT</td>\n      <td>NaN</td>\n      <td>NaN</td>\n    </tr>\n    <tr>\n      <th>...</th>\n      <td>...</td>\n      <td>...</td>\n      <td>...</td>\n      <td>...</td>\n      <td>...</td>\n    </tr>\n    <tr>\n      <th>13235</th>\n      <td>95338</td>\n      <td>@USER Sometimes I get strong vibes from people...</td>\n      <td>OFF</td>\n      <td>TIN</td>\n      <td>IND</td>\n    </tr>\n    <tr>\n      <th>13236</th>\n      <td>67210</td>\n      <td>Benidorm ✅  Creamfields ✅  Maga ✅   Not too sh...</td>\n      <td>NOT</td>\n      <td>NaN</td>\n      <td>NaN</td>\n    </tr>\n    <tr>\n      <th>13237</th>\n      <td>82921</td>\n      <td>@USER And why report this garbage.  We don't g...</td>\n      <td>OFF</td>\n      <td>TIN</td>\n      <td>OTH</td>\n    </tr>\n    <tr>\n      <th>13238</th>\n      <td>27429</td>\n      <td>@USER Pussy</td>\n      <td>OFF</td>\n      <td>UNT</td>\n      <td>NaN</td>\n    </tr>\n    <tr>\n      <th>13239</th>\n      <td>46552</td>\n      <td>#Spanishrevenge vs. #justice #HumanRights and ...</td>\n      <td>NOT</td>\n      <td>NaN</td>\n      <td>NaN</td>\n    </tr>\n  </tbody>\n</table>\n<p>13240 rows × 5 columns</p>\n</div>"
     },
     "execution_count": 136,
     "metadata": {},
     "output_type": "execute_result"
    }
   ],
   "source": [
    "df"
   ],
   "metadata": {
    "collapsed": false,
    "ExecuteTime": {
     "end_time": "2024-03-29T09:12:25.184918400Z",
     "start_time": "2024-03-29T09:12:25.166174200Z"
    }
   }
  },
  {
   "cell_type": "code",
   "execution_count": 141,
   "outputs": [
    {
     "name": "stdout",
     "output_type": "stream",
     "text": [
      "INSERT INTO dataset(dataset_origin_name,dataset_name) VALUES (%s,%s)\n",
      "FEHLER:  doppelter Schlüsselwert verletzt Unique-Constraint »dataset_dataset_origin_name_key«\n",
      "DETAIL:  Schlüssel »(dataset_origin_name)=(OLID)« existiert bereits.\n",
      "\n"
     ]
    },
    {
     "data": {
      "text/plain": "[]"
     },
     "execution_count": 141,
     "metadata": {},
     "output_type": "execute_result"
    }
   ],
   "source": [
    "insert_many_vendors(\"dataset\", [\"dataset_origin_name\", \"dataset_name\"], [('OLID','OLID')])"
   ],
   "metadata": {
    "collapsed": false,
    "ExecuteTime": {
     "end_time": "2024-03-29T09:14:25.398085300Z",
     "start_time": "2024-03-29T09:14:25.345291500Z"
    }
   }
  },
  {
   "cell_type": "code",
   "execution_count": 153,
   "outputs": [],
   "source": [
    "conn = psycopg2.connect(**config)\n",
    "cur = conn.cursor()\n",
    "cur.execute(\"SELECT dataset_id FROM  DATASET \"\n",
    "            \"WHERE dataset_origin_name = 'OLID';\")\n",
    "res = cur.fetchall()"
   ],
   "metadata": {
    "collapsed": false,
    "ExecuteTime": {
     "end_time": "2024-03-29T09:32:00.060927700Z",
     "start_time": "2024-03-29T09:31:59.822376500Z"
    }
   }
  },
  {
   "cell_type": "code",
   "execution_count": 155,
   "outputs": [
    {
     "data": {
      "text/plain": "[(1,)]"
     },
     "execution_count": 155,
     "metadata": {},
     "output_type": "execute_result"
    }
   ],
   "source": [],
   "metadata": {
    "collapsed": false,
    "ExecuteTime": {
     "end_time": "2024-03-29T09:32:03.558744700Z",
     "start_time": "2024-03-29T09:32:03.544631500Z"
    }
   }
  },
  {
   "cell_type": "code",
   "execution_count": null,
   "outputs": [],
   "source": [],
   "metadata": {
    "collapsed": false
   }
  }
 ],
 "metadata": {
  "kernelspec": {
   "display_name": "Python 3",
   "language": "python",
   "name": "python3"
  },
  "language_info": {
   "codemirror_mode": {
    "name": "ipython",
    "version": 2
   },
   "file_extension": ".py",
   "mimetype": "text/x-python",
   "name": "python",
   "nbconvert_exporter": "python",
   "pygments_lexer": "ipython2",
   "version": "2.7.6"
  }
 },
 "nbformat": 4,
 "nbformat_minor": 0
}
