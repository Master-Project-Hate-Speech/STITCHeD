{
 "cells": [
  {
   "cell_type": "code",
   "metadata": {
    "collapsed": true,
    "ExecuteTime": {
     "end_time": "2024-05-09T19:05:18.747030Z",
     "start_time": "2024-05-09T19:05:18.741697Z"
    }
   },
   "source": [
    "# import pandas as pd\n",
    "# import numpy as np\n",
    "# import psycopg2\n",
    "# from config import load_config"
   ],
   "outputs": [],
   "execution_count": 1
  },
  {
   "cell_type": "code",
   "source": [
    "# def insert_many_vendors(dbtable_name, col_list, value_list):\n",
    "#     \"\"\" Insert multiple vendors into the vendors table  \"\"\"\n",
    "#     cols = ','.join(col_list)\n",
    "#     sql = \"INSERT INTO {0}({1}) VALUES \".format(dbtable_name, cols) + \"(\" + \",\".join([\"%s\"] * len(col_list)) + \")\"\n",
    "#     print(sql)\n",
    "#     config = load_config()\n",
    "#     rows = []\n",
    "# \n",
    "#     try:\n",
    "#         with  psycopg2.connect(**config) as conn:\n",
    "#             with  conn.cursor() as cur:\n",
    "#                 # execute the INSERT statement\n",
    "#                 cur.executemany(sql, value_list)\n",
    "#                 conn.commit()\n",
    "# \n",
    "#     except (Exception, psycopg2.DatabaseError) as error:\n",
    "#         print(error)\n",
    "#     finally:\n",
    "#         return rows"
   ],
   "metadata": {
    "collapsed": false,
    "ExecuteTime": {
     "end_time": "2024-05-09T19:05:18.759998Z",
     "start_time": "2024-05-09T19:05:18.755833Z"
    }
   },
   "outputs": [],
   "execution_count": 2
  },
  {
   "cell_type": "code",
   "source": "# df = pd.read_csv(\"./OLID_2019/olid-training-v1.0.tsv\", sep=\"\\t\")",
   "metadata": {
    "collapsed": false,
    "ExecuteTime": {
     "end_time": "2024-05-09T19:05:18.766834Z",
     "start_time": "2024-05-09T19:05:18.759998Z"
    }
   },
   "outputs": [],
   "execution_count": 3
  },
  {
   "cell_type": "code",
   "source": "# df",
   "metadata": {
    "collapsed": false,
    "ExecuteTime": {
     "end_time": "2024-05-09T19:05:18.773946Z",
     "start_time": "2024-05-09T19:05:18.766834Z"
    }
   },
   "outputs": [],
   "execution_count": 4
  },
  {
   "cell_type": "code",
   "source": "# insert_many_vendors(\"dataset\", [\"dataset_origin_name\", \"dataset_name\"], [('OLID','OLID')])",
   "metadata": {
    "collapsed": false,
    "ExecuteTime": {
     "end_time": "2024-05-09T19:05:18.781100Z",
     "start_time": "2024-05-09T19:05:18.773946Z"
    }
   },
   "outputs": [],
   "execution_count": 5
  },
  {
   "cell_type": "code",
   "source": [
    "# conn = psycopg2.connect(**config)\n",
    "# cur = conn.cursor()\n",
    "# cur.execute(\"SELECT dataset_id FROM  DATASET \"\n",
    "#             \"WHERE dataset_origin_name = 'OLID';\")\n",
    "# res = cur.fetchall()"
   ],
   "metadata": {
    "collapsed": false,
    "ExecuteTime": {
     "end_time": "2024-05-09T19:05:18.806439Z",
     "start_time": "2024-05-09T19:05:18.802236Z"
    }
   },
   "outputs": [],
   "execution_count": 6
  },
  {
   "cell_type": "code",
   "source": [],
   "metadata": {
    "collapsed": false,
    "ExecuteTime": {
     "end_time": "2024-05-09T19:05:18.814605Z",
     "start_time": "2024-05-09T19:05:18.808266Z"
    }
   },
   "outputs": [],
   "execution_count": 6
  },
  {
   "cell_type": "code",
   "source": [],
   "metadata": {
    "collapsed": false,
    "ExecuteTime": {
     "end_time": "2024-05-09T19:05:18.827561Z",
     "start_time": "2024-05-09T19:05:18.824112Z"
    }
   },
   "outputs": [],
   "execution_count": 6
  },
  {
   "metadata": {
    "ExecuteTime": {
     "end_time": "2024-05-09T19:05:18.851679Z",
     "start_time": "2024-05-09T19:05:18.848078Z"
    }
   },
   "cell_type": "code",
   "source": "",
   "outputs": [],
   "execution_count": 6
  },
  {
   "metadata": {
    "ExecuteTime": {
     "end_time": "2024-05-09T19:05:18.858288Z",
     "start_time": "2024-05-09T19:05:18.851679Z"
    }
   },
   "cell_type": "code",
   "source": "",
   "outputs": [],
   "execution_count": 6
  }
 ],
 "metadata": {
  "kernelspec": {
   "display_name": "Python 3",
   "language": "python",
   "name": "python3"
  },
  "language_info": {
   "codemirror_mode": {
    "name": "ipython",
    "version": 2
   },
   "file_extension": ".py",
   "mimetype": "text/x-python",
   "name": "python",
   "nbconvert_exporter": "python",
   "pygments_lexer": "ipython2",
   "version": "2.7.6"
  }
 },
 "nbformat": 4,
 "nbformat_minor": 0
}
