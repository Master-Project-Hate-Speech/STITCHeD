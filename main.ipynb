{
 "cells": [
  {
   "cell_type": "code",
   "id": "initial_id",
   "metadata": {
    "collapsed": true,
    "ExecuteTime": {
     "end_time": "2024-04-29T12:29:53.168078Z",
     "start_time": "2024-04-29T12:29:52.533946Z"
    }
   },
   "source": [
    "%run dataTransformation.ipynb\n",
    "from sqlite_setup import create_tables\n",
    "from read_data import read_table, read_all_tables"
   ],
   "outputs": [],
   "execution_count": 1
  },
  {
   "metadata": {
    "ExecuteTime": {
     "end_time": "2024-04-29T12:29:53.224221Z",
     "start_time": "2024-04-29T12:29:53.170167Z"
    }
   },
   "cell_type": "code",
   "source": [
    "import myGlobals\n",
    "conn = myGlobals.connect()\n",
    "create_tables(conn)"
   ],
   "id": "6795c37c2375b3c4",
   "outputs": [],
   "execution_count": 2
  },
  {
   "metadata": {
    "ExecuteTime": {
     "end_time": "2024-04-29T12:29:53.231658Z",
     "start_time": "2024-04-29T12:29:53.225226Z"
    }
   },
   "cell_type": "code",
   "source": "read_all_tables(conn)",
   "id": "d9fe86904d2040a",
   "outputs": [
    {
     "name": "stdout",
     "output_type": "stream",
     "text": [
      "========== Contents of table: dataset ( 0 rows ) ==========\n",
      "['dataset_id', 'dataset_original_name', 'dataset_name', 'original_paper']\n",
      "========== Contents of table: sqlite_sequence ( 0 rows ) ==========\n",
      "['name', 'seq']\n",
      "========== Contents of table: schema ( 0 rows ) ==========\n",
      "['dataset_id', 'label_name']\n",
      "========== Contents of table: text_source ( 0 rows ) ==========\n",
      "['source_id', 'source']\n",
      "========== Contents of table: language ( 0 rows ) ==========\n",
      "['language_id', 'language']\n",
      "========== Contents of table: text ( 0 rows ) ==========\n",
      "['dataset_id', 'text_id', 'source_id', 'language_id', 'text']\n",
      "========== Contents of table: label ( 0 rows ) ==========\n",
      "['dataset_id', 'text_id', 'label_name', 'label_value', 'label_definition']\n"
     ]
    }
   ],
   "execution_count": 3
  },
  {
   "metadata": {
    "ExecuteTime": {
     "end_time": "2024-04-29T12:29:53.236731Z",
     "start_time": "2024-04-29T12:29:53.232664Z"
    }
   },
   "cell_type": "code",
   "source": [
    "def insert_data(conn, df, table_name):\n",
    "    try:\n",
    "        df.to_sql(table_name, conn, if_exists='append', index=False)\n",
    "    except Exception as e:\n",
    "        print(e)"
   ],
   "id": "1ad51869d775b5ee",
   "outputs": [],
   "execution_count": 4
  },
  {
   "metadata": {
    "ExecuteTime": {
     "end_time": "2024-04-29T12:29:53.279210Z",
     "start_time": "2024-04-29T12:29:53.237738Z"
    }
   },
   "cell_type": "code",
   "source": [
    "import pandas as pd\n",
    "## dataset\n",
    "dataset_data = {\n",
    "    'dataset_original_name': ['OLID_2019'],\n",
    "    'dataset_name': ['OLID_2019']\n",
    "}\n",
    "dataset_df = pd.DataFrame(dataset_data)\n",
    "insert_data(conn, dataset_df, \"dataset\" )\n",
    "read_table(conn, \"dataset\" )\n",
    "## schema\n",
    "insert_data(conn, table_schema, \"schema\")\n",
    "read_table(conn, \"schema\" )\n",
    "## text_source\n",
    "text_source_data = {\n",
    "    'source': ['tweet']\n",
    "}\n",
    "text_source_df = pd.DataFrame(text_source_data)\n",
    "insert_data(conn, text_source_df, \"text_source\" )\n",
    "read_table(conn, \"text_source\" )\n",
    "## language\n",
    "language_data = {\n",
    "    'language': ['English']\n",
    "}\n",
    "language_df = pd.DataFrame(language_data)\n",
    "insert_data(conn, language_df, \"language\" )\n",
    "read_table(conn, \"language\" )"
   ],
   "id": "82f0f16559e88ee1",
   "outputs": [
    {
     "name": "stdout",
     "output_type": "stream",
     "text": [
      "========== Contents of table: dataset ( 1 rows ) ==========\n",
      "['dataset_id', 'dataset_original_name', 'dataset_name', 'original_paper']\n",
      "(1, 'OLID_2019', 'OLID_2019', None)\n",
      "========== Contents of table: schema ( 3 rows ) ==========\n",
      "['dataset_id', 'label_name']\n",
      "(1, 'subtask_a')\n",
      "(1, 'subtask_b')\n",
      "(1, 'subtask_c')\n",
      "========== Contents of table: text_source ( 1 rows ) ==========\n",
      "['source_id', 'source']\n",
      "(1, 'tweet')\n",
      "========== Contents of table: language ( 1 rows ) ==========\n",
      "['language_id', 'language']\n",
      "(1, 'English')\n"
     ]
    }
   ],
   "execution_count": 5
  },
  {
   "metadata": {
    "ExecuteTime": {
     "end_time": "2024-04-29T12:29:53.354952Z",
     "start_time": "2024-04-29T12:29:53.280216Z"
    }
   },
   "cell_type": "code",
   "source": [
    "## text\n",
    "insert_data(conn, table_text, \"text\")\n",
    "read_table(conn, \"text\" )"
   ],
   "id": "310e263c16ecb7be",
   "outputs": [
    {
     "name": "stdout",
     "output_type": "stream",
     "text": [
      "========== Contents of table: text ( 13240 rows ) ==========\n",
      "['dataset_id', 'text_id', 'source_id', 'language_id', 'text']\n",
      "(1, 86426, 1, None, '@USER She should ask a few native Americans what their take on this is.')\n",
      "(1, 90194, 1, None, '@USER @USER Go home you’re drunk!!! @USER #MAGA #Trump2020 👊🇺🇸👊 URL')\n",
      "(1, 16820, 1, None, 'Amazon is investigating Chinese employees who are selling internal data to third-party sellers looking for an edge in the competitive marketplace. URL #Amazon #MAGA #KAG #CHINA #TCOT')\n",
      "(1, 62688, 1, None, '@USER Someone should\\'veTaken\" this piece of shit to a volcano. 😂\"')\n",
      "(1, 43605, 1, None, '@USER @USER Obama wanted liberals &amp; illegals to move into red states')\n"
     ]
    }
   ],
   "execution_count": 6
  },
  {
   "metadata": {
    "ExecuteTime": {
     "end_time": "2024-04-29T12:29:53.547998Z",
     "start_time": "2024-04-29T12:29:53.355957Z"
    }
   },
   "cell_type": "code",
   "source": [
    "## label\n",
    "insert_data(conn, table_label, \"label\")\n",
    "read_table(conn, \"label\" )"
   ],
   "id": "7e75c497556dfee1",
   "outputs": [
    {
     "name": "stdout",
     "output_type": "stream",
     "text": [
      "========== Contents of table: label ( 39720 rows ) ==========\n",
      "['dataset_id', 'text_id', 'label_name', 'label_value', 'label_definition']\n",
      "(1, 86426, 'subtask_a', 'OFF', None)\n",
      "(1, 90194, 'subtask_a', 'OFF', None)\n",
      "(1, 16820, 'subtask_a', 'NOT', None)\n",
      "(1, 62688, 'subtask_a', 'OFF', None)\n",
      "(1, 43605, 'subtask_a', 'NOT', None)\n"
     ]
    }
   ],
   "execution_count": 7
  }
 ],
 "metadata": {
  "kernelspec": {
   "display_name": "Python 3",
   "language": "python",
   "name": "python3"
  },
  "language_info": {
   "codemirror_mode": {
    "name": "ipython",
    "version": 2
   },
   "file_extension": ".py",
   "mimetype": "text/x-python",
   "name": "python",
   "nbconvert_exporter": "python",
   "pygments_lexer": "ipython2",
   "version": "2.7.6"
  }
 },
 "nbformat": 4,
 "nbformat_minor": 5
}
