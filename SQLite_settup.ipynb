{
 "cells": [
  {
   "cell_type": "code",
   "id": "initial_id",
   "metadata": {
    "collapsed": true,
    "ExecuteTime": {
     "end_time": "2024-05-09T19:06:38.651088Z",
     "start_time": "2024-05-09T19:06:38.641189Z"
    }
   },
   "source": [
    "# import sqlite3\n",
    "# # connect\n",
    "# import myGlobals\n",
    "# conn = myGlobals.connect()"
   ],
   "outputs": [],
   "execution_count": 1
  },
  {
   "metadata": {
    "ExecuteTime": {
     "end_time": "2024-05-09T19:06:38.665818Z",
     "start_time": "2024-05-09T19:06:38.653154Z"
    }
   },
   "cell_type": "code",
   "source": [
    "# # create table\n",
    "# c = conn.cursor()\n",
    "# c.execute('''CREATE TABLE IF NOT EXISTS dataset (\n",
    "# datasetID INTEGER PRIMARY KEY,\n",
    "# datasetOriginalName TEXT NOT NULL UNIQUE,\n",
    "# datasetName TEXT NOT NULL UNIQUE,\n",
    "# originalPaper TEXT)''')"
   ],
   "id": "b7fc762f5995bb11",
   "outputs": [],
   "execution_count": 2
  },
  {
   "metadata": {
    "ExecuteTime": {
     "end_time": "2024-05-09T19:06:38.672833Z",
     "start_time": "2024-05-09T19:06:38.666825Z"
    }
   },
   "cell_type": "code",
   "source": [
    "# # insert a row of data\n",
    "# # need to be able to deal with error message\n",
    "# try:\n",
    "#     c.execute('''INSERT INTO dataset (datasetOriginalName, datasetName, originalPaper) Values (\n",
    "# 'OLID','OLID','examplePaper'\n",
    "# )''')\n",
    "# except Exception as e:\n",
    "#     print(\"Insertion failed:\", e)"
   ],
   "id": "40461a4511cff0a4",
   "outputs": [],
   "execution_count": 3
  },
  {
   "metadata": {
    "ExecuteTime": {
     "end_time": "2024-05-09T19:06:38.679432Z",
     "start_time": "2024-05-09T19:06:38.672833Z"
    }
   },
   "cell_type": "code",
   "source": [
    "# # save the changes and close\n",
    "# conn.commit()\n",
    "# conn.close()"
   ],
   "id": "b2c385ec6f2a227e",
   "outputs": [],
   "execution_count": 4
  },
  {
   "metadata": {
    "ExecuteTime": {
     "end_time": "2024-05-09T19:06:38.686674Z",
     "start_time": "2024-05-09T19:06:38.679432Z"
    }
   },
   "cell_type": "code",
   "source": [
    "# conn = sqlite3.connect(path)\n",
    "# c = conn.cursor()\n",
    "# c.execute('''SELECT * FROM dataset''')\n",
    "# # print the selection\n",
    "# rows = c.fetchall()\n",
    "# for row in rows:\n",
    "#     print(row)"
   ],
   "id": "617d4a6cab33b2a",
   "outputs": [],
   "execution_count": 5
  }
 ],
 "metadata": {
  "kernelspec": {
   "display_name": "Python 3",
   "language": "python",
   "name": "python3"
  },
  "language_info": {
   "codemirror_mode": {
    "name": "ipython",
    "version": 2
   },
   "file_extension": ".py",
   "mimetype": "text/x-python",
   "name": "python",
   "nbconvert_exporter": "python",
   "pygments_lexer": "ipython2",
   "version": "2.7.6"
  }
 },
 "nbformat": 4,
 "nbformat_minor": 5
}
