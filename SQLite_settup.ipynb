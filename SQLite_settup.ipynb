{
 "cells": [
  {
   "cell_type": "code",
   "id": "initial_id",
   "metadata": {
    "collapsed": true,
    "ExecuteTime": {
     "end_time": "2024-04-19T18:30:11.175451Z",
     "start_time": "2024-04-19T18:30:11.171437Z"
    }
   },
   "source": [
    "import sqlite3\n",
    "# connect\n",
    "path = 'hate_speech.db'\n",
    "conn = sqlite3.connect(path)"
   ],
   "outputs": [],
   "execution_count": 38
  },
  {
   "metadata": {
    "ExecuteTime": {
     "end_time": "2024-04-19T18:30:11.626245Z",
     "start_time": "2024-04-19T18:30:11.621506Z"
    }
   },
   "cell_type": "code",
   "source": [
    "# create table\n",
    "c = conn.cursor()\n",
    "c.execute('''CREATE TABLE IF NOT EXISTS dataset (\n",
    "datasetID INTEGER PRIMARY KEY,\n",
    "datasetOriginalName TEXT NOT NULL UNIQUE,\n",
    "datasetName TEXT NOT NULL UNIQUE,\n",
    "originalPaper TEXT)''')"
   ],
   "id": "b7fc762f5995bb11",
   "outputs": [
    {
     "data": {
      "text/plain": [
       "<sqlite3.Cursor at 0x20d8a53f940>"
      ]
     },
     "execution_count": 39,
     "metadata": {},
     "output_type": "execute_result"
    }
   ],
   "execution_count": 39
  },
  {
   "metadata": {
    "ExecuteTime": {
     "end_time": "2024-04-19T18:30:17.643130Z",
     "start_time": "2024-04-19T18:30:12.116320Z"
    }
   },
   "cell_type": "code",
   "source": [
    "# insert a row of data\n",
    "# need to be able to deal with error message\n",
    "c.execute('''INSERT INTO dataset (datasetOriginalName, datasetName, originalPaper) Values (\n",
    "'OLID','OLID','examplePaper'\n",
    ")''')"
   ],
   "id": "40461a4511cff0a4",
   "outputs": [
    {
     "ename": "OperationalError",
     "evalue": "database is locked",
     "output_type": "error",
     "traceback": [
      "\u001B[1;31m---------------------------------------------------------------------------\u001B[0m",
      "\u001B[1;31mOperationalError\u001B[0m                          Traceback (most recent call last)",
      "Cell \u001B[1;32mIn[40], line 3\u001B[0m\n\u001B[0;32m      1\u001B[0m \u001B[38;5;66;03m# insert a row of data\u001B[39;00m\n\u001B[0;32m      2\u001B[0m \u001B[38;5;66;03m# need to be able to deal with error message\u001B[39;00m\n\u001B[1;32m----> 3\u001B[0m c\u001B[38;5;241m.\u001B[39mexecute(\u001B[38;5;124m'''\u001B[39m\u001B[38;5;124mINSERT INTO dataset (datasetOriginalName, datasetName, originalPaper) Values (\u001B[39m\n\u001B[0;32m      4\u001B[0m \u001B[38;5;124m'\u001B[39m\u001B[38;5;124mOLID\u001B[39m\u001B[38;5;124m'\u001B[39m\u001B[38;5;124m,\u001B[39m\u001B[38;5;124m'\u001B[39m\u001B[38;5;124mOLID\u001B[39m\u001B[38;5;124m'\u001B[39m\u001B[38;5;124m,\u001B[39m\u001B[38;5;124m'\u001B[39m\u001B[38;5;124mexamplePaper\u001B[39m\u001B[38;5;124m'\u001B[39m\n\u001B[0;32m      5\u001B[0m \u001B[38;5;124m)\u001B[39m\u001B[38;5;124m'''\u001B[39m)\n",
      "\u001B[1;31mOperationalError\u001B[0m: database is locked"
     ]
    }
   ],
   "execution_count": 40
  },
  {
   "metadata": {
    "ExecuteTime": {
     "end_time": "2024-04-19T18:31:08.607628Z",
     "start_time": "2024-04-19T18:31:08.595369Z"
    }
   },
   "cell_type": "code",
   "source": [
    "# save the changes and close\n",
    "conn.commit()\n",
    "conn.close()"
   ],
   "id": "b2c385ec6f2a227e",
   "outputs": [
    {
     "ename": "ProgrammingError",
     "evalue": "Cannot operate on a closed database.",
     "output_type": "error",
     "traceback": [
      "\u001B[1;31m---------------------------------------------------------------------------\u001B[0m",
      "\u001B[1;31mProgrammingError\u001B[0m                          Traceback (most recent call last)",
      "Cell \u001B[1;32mIn[42], line 2\u001B[0m\n\u001B[0;32m      1\u001B[0m \u001B[38;5;66;03m# save the changes and close\u001B[39;00m\n\u001B[1;32m----> 2\u001B[0m conn\u001B[38;5;241m.\u001B[39mcommit()\n\u001B[0;32m      3\u001B[0m conn\u001B[38;5;241m.\u001B[39mclose()\n",
      "\u001B[1;31mProgrammingError\u001B[0m: Cannot operate on a closed database."
     ]
    }
   ],
   "execution_count": 42
  },
  {
   "metadata": {
    "ExecuteTime": {
     "end_time": "2024-04-19T18:29:03.680628Z",
     "start_time": "2024-04-19T18:29:03.676081Z"
    }
   },
   "cell_type": "code",
   "source": [
    "conn = sqlite3.connect(path)\n",
    "c = conn.cursor()\n",
    "c.execute('''SELECT * FROM dataset''')\n",
    "# print the selection\n",
    "rows = c.fetchall()\n",
    "for row in rows:\n",
    "    print(row)"
   ],
   "id": "617d4a6cab33b2a",
   "outputs": [
    {
     "name": "stdout",
     "output_type": "stream",
     "text": [
      "(1, 'OLID', 'OLID', 'examplePaper')\n"
     ]
    }
   ],
   "execution_count": 32
  }
 ],
 "metadata": {
  "kernelspec": {
   "display_name": "Python 3",
   "language": "python",
   "name": "python3"
  },
  "language_info": {
   "codemirror_mode": {
    "name": "ipython",
    "version": 2
   },
   "file_extension": ".py",
   "mimetype": "text/x-python",
   "name": "python",
   "nbconvert_exporter": "python",
   "pygments_lexer": "ipython2",
   "version": "2.7.6"
  }
 },
 "nbformat": 4,
 "nbformat_minor": 5
}
