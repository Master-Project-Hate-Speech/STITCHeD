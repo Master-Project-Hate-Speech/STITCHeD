{
 "cells": [
  {
   "cell_type": "code",
   "execution_count": 20,
   "metadata": {
    "collapsed": true,
    "ExecuteTime": {
     "end_time": "2024-04-22T00:22:49.806364700Z",
     "start_time": "2024-04-22T00:22:49.793859300Z"
    }
   },
   "outputs": [],
   "source": [
    "import numpy as np\n",
    "import pandas as pd"
   ]
  },
  {
   "cell_type": "code",
   "execution_count": 21,
   "outputs": [
    {
     "data": {
      "text/plain": "          id                                              tweet subtask_a  \\\n0      86426  @USER She should ask a few native Americans wh...       OFF   \n1      90194  @USER @USER Go home you’re drunk!!! @USER #MAG...       OFF   \n2      16820  Amazon is investigating Chinese employees who ...       NOT   \n3      62688  @USER Someone should'veTaken\" this piece of sh...       OFF   \n4      43605  @USER @USER Obama wanted liberals &amp; illega...       NOT   \n...      ...                                                ...       ...   \n13235  95338  @USER Sometimes I get strong vibes from people...       OFF   \n13236  67210  Benidorm ✅  Creamfields ✅  Maga ✅   Not too sh...       NOT   \n13237  82921  @USER And why report this garbage.  We don't g...       OFF   \n13238  27429                                        @USER Pussy       OFF   \n13239  46552  #Spanishrevenge vs. #justice #HumanRights and ...       NOT   \n\n      subtask_b subtask_c  \n0           UNT       NaN  \n1           TIN       IND  \n2           NaN       NaN  \n3           UNT       NaN  \n4           NaN       NaN  \n...         ...       ...  \n13235       TIN       IND  \n13236       NaN       NaN  \n13237       TIN       OTH  \n13238       UNT       NaN  \n13239       NaN       NaN  \n\n[13240 rows x 5 columns]",
      "text/html": "<div>\n<style scoped>\n    .dataframe tbody tr th:only-of-type {\n        vertical-align: middle;\n    }\n\n    .dataframe tbody tr th {\n        vertical-align: top;\n    }\n\n    .dataframe thead th {\n        text-align: right;\n    }\n</style>\n<table border=\"1\" class=\"dataframe\">\n  <thead>\n    <tr style=\"text-align: right;\">\n      <th></th>\n      <th>id</th>\n      <th>tweet</th>\n      <th>subtask_a</th>\n      <th>subtask_b</th>\n      <th>subtask_c</th>\n    </tr>\n  </thead>\n  <tbody>\n    <tr>\n      <th>0</th>\n      <td>86426</td>\n      <td>@USER She should ask a few native Americans wh...</td>\n      <td>OFF</td>\n      <td>UNT</td>\n      <td>NaN</td>\n    </tr>\n    <tr>\n      <th>1</th>\n      <td>90194</td>\n      <td>@USER @USER Go home you’re drunk!!! @USER #MAG...</td>\n      <td>OFF</td>\n      <td>TIN</td>\n      <td>IND</td>\n    </tr>\n    <tr>\n      <th>2</th>\n      <td>16820</td>\n      <td>Amazon is investigating Chinese employees who ...</td>\n      <td>NOT</td>\n      <td>NaN</td>\n      <td>NaN</td>\n    </tr>\n    <tr>\n      <th>3</th>\n      <td>62688</td>\n      <td>@USER Someone should'veTaken\" this piece of sh...</td>\n      <td>OFF</td>\n      <td>UNT</td>\n      <td>NaN</td>\n    </tr>\n    <tr>\n      <th>4</th>\n      <td>43605</td>\n      <td>@USER @USER Obama wanted liberals &amp;amp; illega...</td>\n      <td>NOT</td>\n      <td>NaN</td>\n      <td>NaN</td>\n    </tr>\n    <tr>\n      <th>...</th>\n      <td>...</td>\n      <td>...</td>\n      <td>...</td>\n      <td>...</td>\n      <td>...</td>\n    </tr>\n    <tr>\n      <th>13235</th>\n      <td>95338</td>\n      <td>@USER Sometimes I get strong vibes from people...</td>\n      <td>OFF</td>\n      <td>TIN</td>\n      <td>IND</td>\n    </tr>\n    <tr>\n      <th>13236</th>\n      <td>67210</td>\n      <td>Benidorm ✅  Creamfields ✅  Maga ✅   Not too sh...</td>\n      <td>NOT</td>\n      <td>NaN</td>\n      <td>NaN</td>\n    </tr>\n    <tr>\n      <th>13237</th>\n      <td>82921</td>\n      <td>@USER And why report this garbage.  We don't g...</td>\n      <td>OFF</td>\n      <td>TIN</td>\n      <td>OTH</td>\n    </tr>\n    <tr>\n      <th>13238</th>\n      <td>27429</td>\n      <td>@USER Pussy</td>\n      <td>OFF</td>\n      <td>UNT</td>\n      <td>NaN</td>\n    </tr>\n    <tr>\n      <th>13239</th>\n      <td>46552</td>\n      <td>#Spanishrevenge vs. #justice #HumanRights and ...</td>\n      <td>NOT</td>\n      <td>NaN</td>\n      <td>NaN</td>\n    </tr>\n  </tbody>\n</table>\n<p>13240 rows × 5 columns</p>\n</div>"
     },
     "execution_count": 21,
     "metadata": {},
     "output_type": "execute_result"
    }
   ],
   "source": [
    "df = pd.read_csv(\"./OLID_2019/olid-training-v1.0.tsv\", sep=\"\\t\")\n",
    "df"
   ],
   "metadata": {
    "collapsed": false,
    "ExecuteTime": {
     "end_time": "2024-04-22T00:22:50.168767800Z",
     "start_time": "2024-04-22T00:22:50.128156200Z"
    }
   }
  },
  {
   "cell_type": "code",
   "execution_count": 22,
   "outputs": [],
   "source": [
    "## information we need to know from Config file\n",
    "dataset_id = 1\n",
    "label_columns = [\"subtask_a\", \"subtask_b\", \"subtask_c\"]\n",
    "source_id = 1"
   ],
   "metadata": {
    "collapsed": false,
    "ExecuteTime": {
     "end_time": "2024-04-22T00:22:50.558970600Z",
     "start_time": "2024-04-22T00:22:50.547404100Z"
    }
   }
  },
  {
   "cell_type": "markdown",
   "source": [
    "Create table ***Schema***"
   ],
   "metadata": {
    "collapsed": false
   }
  },
  {
   "cell_type": "code",
   "execution_count": 23,
   "outputs": [],
   "source": [
    "# Create a DataFrame with the specified columns\n",
    "data = {\n",
    "    \"dataset_id\": [dataset_id] * len(label_columns),  # Repeat dataset_id for each label column\n",
    "    \"label_name\": label_columns\n",
    "}\n",
    "\n",
    "table_schema = pd.DataFrame(data)"
   ],
   "metadata": {
    "collapsed": false,
    "ExecuteTime": {
     "end_time": "2024-04-22T00:22:51.394305600Z",
     "start_time": "2024-04-22T00:22:51.378268400Z"
    }
   }
  },
  {
   "cell_type": "code",
   "execution_count": 36,
   "outputs": [
    {
     "data": {
      "text/plain": "dict"
     },
     "execution_count": 36,
     "metadata": {},
     "output_type": "execute_result"
    }
   ],
   "source": [
    "type(data)"
   ],
   "metadata": {
    "collapsed": false,
    "ExecuteTime": {
     "end_time": "2024-04-22T00:29:28.095684600Z",
     "start_time": "2024-04-22T00:29:28.083355700Z"
    }
   }
  },
  {
   "cell_type": "code",
   "execution_count": 24,
   "outputs": [
    {
     "data": {
      "text/plain": "   dataset_id label_name\n0           1  subtask_a\n1           1  subtask_b\n2           1  subtask_c",
      "text/html": "<div>\n<style scoped>\n    .dataframe tbody tr th:only-of-type {\n        vertical-align: middle;\n    }\n\n    .dataframe tbody tr th {\n        vertical-align: top;\n    }\n\n    .dataframe thead th {\n        text-align: right;\n    }\n</style>\n<table border=\"1\" class=\"dataframe\">\n  <thead>\n    <tr style=\"text-align: right;\">\n      <th></th>\n      <th>dataset_id</th>\n      <th>label_name</th>\n    </tr>\n  </thead>\n  <tbody>\n    <tr>\n      <th>0</th>\n      <td>1</td>\n      <td>subtask_a</td>\n    </tr>\n    <tr>\n      <th>1</th>\n      <td>1</td>\n      <td>subtask_b</td>\n    </tr>\n    <tr>\n      <th>2</th>\n      <td>1</td>\n      <td>subtask_c</td>\n    </tr>\n  </tbody>\n</table>\n</div>"
     },
     "execution_count": 24,
     "metadata": {},
     "output_type": "execute_result"
    }
   ],
   "source": [
    "table_schema"
   ],
   "metadata": {
    "collapsed": false,
    "ExecuteTime": {
     "end_time": "2024-04-22T00:22:51.764611900Z",
     "start_time": "2024-04-22T00:22:51.747309500Z"
    }
   }
  },
  {
   "cell_type": "code",
   "execution_count": 25,
   "outputs": [],
   "source": [
    "df[\"dataset_id\"] = dataset_id\n",
    "df.rename(columns={'id': 'text_id',\n",
    "                   'tweet':'text'\n",
    "                   }, inplace=True)\n"
   ],
   "metadata": {
    "collapsed": false,
    "ExecuteTime": {
     "end_time": "2024-04-22T00:22:52.265382Z",
     "start_time": "2024-04-22T00:22:52.258433300Z"
    }
   }
  },
  {
   "cell_type": "code",
   "execution_count": 26,
   "outputs": [
    {
     "data": {
      "text/plain": "       text_id                                               text subtask_a  \\\n0        86426  @USER She should ask a few native Americans wh...       OFF   \n1        90194  @USER @USER Go home you’re drunk!!! @USER #MAG...       OFF   \n2        16820  Amazon is investigating Chinese employees who ...       NOT   \n3        62688  @USER Someone should'veTaken\" this piece of sh...       OFF   \n4        43605  @USER @USER Obama wanted liberals &amp; illega...       NOT   \n...        ...                                                ...       ...   \n13235    95338  @USER Sometimes I get strong vibes from people...       OFF   \n13236    67210  Benidorm ✅  Creamfields ✅  Maga ✅   Not too sh...       NOT   \n13237    82921  @USER And why report this garbage.  We don't g...       OFF   \n13238    27429                                        @USER Pussy       OFF   \n13239    46552  #Spanishrevenge vs. #justice #HumanRights and ...       NOT   \n\n      subtask_b subtask_c  dataset_id  \n0           UNT       NaN           1  \n1           TIN       IND           1  \n2           NaN       NaN           1  \n3           UNT       NaN           1  \n4           NaN       NaN           1  \n...         ...       ...         ...  \n13235       TIN       IND           1  \n13236       NaN       NaN           1  \n13237       TIN       OTH           1  \n13238       UNT       NaN           1  \n13239       NaN       NaN           1  \n\n[13240 rows x 6 columns]",
      "text/html": "<div>\n<style scoped>\n    .dataframe tbody tr th:only-of-type {\n        vertical-align: middle;\n    }\n\n    .dataframe tbody tr th {\n        vertical-align: top;\n    }\n\n    .dataframe thead th {\n        text-align: right;\n    }\n</style>\n<table border=\"1\" class=\"dataframe\">\n  <thead>\n    <tr style=\"text-align: right;\">\n      <th></th>\n      <th>text_id</th>\n      <th>text</th>\n      <th>subtask_a</th>\n      <th>subtask_b</th>\n      <th>subtask_c</th>\n      <th>dataset_id</th>\n    </tr>\n  </thead>\n  <tbody>\n    <tr>\n      <th>0</th>\n      <td>86426</td>\n      <td>@USER She should ask a few native Americans wh...</td>\n      <td>OFF</td>\n      <td>UNT</td>\n      <td>NaN</td>\n      <td>1</td>\n    </tr>\n    <tr>\n      <th>1</th>\n      <td>90194</td>\n      <td>@USER @USER Go home you’re drunk!!! @USER #MAG...</td>\n      <td>OFF</td>\n      <td>TIN</td>\n      <td>IND</td>\n      <td>1</td>\n    </tr>\n    <tr>\n      <th>2</th>\n      <td>16820</td>\n      <td>Amazon is investigating Chinese employees who ...</td>\n      <td>NOT</td>\n      <td>NaN</td>\n      <td>NaN</td>\n      <td>1</td>\n    </tr>\n    <tr>\n      <th>3</th>\n      <td>62688</td>\n      <td>@USER Someone should'veTaken\" this piece of sh...</td>\n      <td>OFF</td>\n      <td>UNT</td>\n      <td>NaN</td>\n      <td>1</td>\n    </tr>\n    <tr>\n      <th>4</th>\n      <td>43605</td>\n      <td>@USER @USER Obama wanted liberals &amp;amp; illega...</td>\n      <td>NOT</td>\n      <td>NaN</td>\n      <td>NaN</td>\n      <td>1</td>\n    </tr>\n    <tr>\n      <th>...</th>\n      <td>...</td>\n      <td>...</td>\n      <td>...</td>\n      <td>...</td>\n      <td>...</td>\n      <td>...</td>\n    </tr>\n    <tr>\n      <th>13235</th>\n      <td>95338</td>\n      <td>@USER Sometimes I get strong vibes from people...</td>\n      <td>OFF</td>\n      <td>TIN</td>\n      <td>IND</td>\n      <td>1</td>\n    </tr>\n    <tr>\n      <th>13236</th>\n      <td>67210</td>\n      <td>Benidorm ✅  Creamfields ✅  Maga ✅   Not too sh...</td>\n      <td>NOT</td>\n      <td>NaN</td>\n      <td>NaN</td>\n      <td>1</td>\n    </tr>\n    <tr>\n      <th>13237</th>\n      <td>82921</td>\n      <td>@USER And why report this garbage.  We don't g...</td>\n      <td>OFF</td>\n      <td>TIN</td>\n      <td>OTH</td>\n      <td>1</td>\n    </tr>\n    <tr>\n      <th>13238</th>\n      <td>27429</td>\n      <td>@USER Pussy</td>\n      <td>OFF</td>\n      <td>UNT</td>\n      <td>NaN</td>\n      <td>1</td>\n    </tr>\n    <tr>\n      <th>13239</th>\n      <td>46552</td>\n      <td>#Spanishrevenge vs. #justice #HumanRights and ...</td>\n      <td>NOT</td>\n      <td>NaN</td>\n      <td>NaN</td>\n      <td>1</td>\n    </tr>\n  </tbody>\n</table>\n<p>13240 rows × 6 columns</p>\n</div>"
     },
     "execution_count": 26,
     "metadata": {},
     "output_type": "execute_result"
    }
   ],
   "source": [
    "df"
   ],
   "metadata": {
    "collapsed": false,
    "ExecuteTime": {
     "end_time": "2024-04-22T00:22:53.244484700Z",
     "start_time": "2024-04-22T00:22:53.225954100Z"
    }
   }
  },
  {
   "cell_type": "markdown",
   "source": [
    "Create Table ***text***"
   ],
   "metadata": {
    "collapsed": false
   }
  },
  {
   "cell_type": "code",
   "execution_count": 31,
   "outputs": [],
   "source": [
    "table_text = df[['dataset_id', 'text_id', 'text']].drop_duplicates()"
   ],
   "metadata": {
    "collapsed": false,
    "ExecuteTime": {
     "end_time": "2024-04-22T00:24:58.087995700Z",
     "start_time": "2024-04-22T00:24:58.065942100Z"
    }
   }
  },
  {
   "cell_type": "code",
   "execution_count": 32,
   "outputs": [],
   "source": [
    "table_text['source_id'] = source_id"
   ],
   "metadata": {
    "collapsed": false,
    "ExecuteTime": {
     "end_time": "2024-04-22T00:24:58.377465900Z",
     "start_time": "2024-04-22T00:24:58.368453800Z"
    }
   }
  },
  {
   "cell_type": "code",
   "execution_count": 33,
   "outputs": [
    {
     "data": {
      "text/plain": "       dataset_id  text_id                                               text  \\\n0               1    86426  @USER She should ask a few native Americans wh...   \n1               1    90194  @USER @USER Go home you’re drunk!!! @USER #MAG...   \n2               1    16820  Amazon is investigating Chinese employees who ...   \n3               1    62688  @USER Someone should'veTaken\" this piece of sh...   \n4               1    43605  @USER @USER Obama wanted liberals &amp; illega...   \n...           ...      ...                                                ...   \n13235           1    95338  @USER Sometimes I get strong vibes from people...   \n13236           1    67210  Benidorm ✅  Creamfields ✅  Maga ✅   Not too sh...   \n13237           1    82921  @USER And why report this garbage.  We don't g...   \n13238           1    27429                                        @USER Pussy   \n13239           1    46552  #Spanishrevenge vs. #justice #HumanRights and ...   \n\n       source_id  \n0              1  \n1              1  \n2              1  \n3              1  \n4              1  \n...          ...  \n13235          1  \n13236          1  \n13237          1  \n13238          1  \n13239          1  \n\n[13240 rows x 4 columns]",
      "text/html": "<div>\n<style scoped>\n    .dataframe tbody tr th:only-of-type {\n        vertical-align: middle;\n    }\n\n    .dataframe tbody tr th {\n        vertical-align: top;\n    }\n\n    .dataframe thead th {\n        text-align: right;\n    }\n</style>\n<table border=\"1\" class=\"dataframe\">\n  <thead>\n    <tr style=\"text-align: right;\">\n      <th></th>\n      <th>dataset_id</th>\n      <th>text_id</th>\n      <th>text</th>\n      <th>source_id</th>\n    </tr>\n  </thead>\n  <tbody>\n    <tr>\n      <th>0</th>\n      <td>1</td>\n      <td>86426</td>\n      <td>@USER She should ask a few native Americans wh...</td>\n      <td>1</td>\n    </tr>\n    <tr>\n      <th>1</th>\n      <td>1</td>\n      <td>90194</td>\n      <td>@USER @USER Go home you’re drunk!!! @USER #MAG...</td>\n      <td>1</td>\n    </tr>\n    <tr>\n      <th>2</th>\n      <td>1</td>\n      <td>16820</td>\n      <td>Amazon is investigating Chinese employees who ...</td>\n      <td>1</td>\n    </tr>\n    <tr>\n      <th>3</th>\n      <td>1</td>\n      <td>62688</td>\n      <td>@USER Someone should'veTaken\" this piece of sh...</td>\n      <td>1</td>\n    </tr>\n    <tr>\n      <th>4</th>\n      <td>1</td>\n      <td>43605</td>\n      <td>@USER @USER Obama wanted liberals &amp;amp; illega...</td>\n      <td>1</td>\n    </tr>\n    <tr>\n      <th>...</th>\n      <td>...</td>\n      <td>...</td>\n      <td>...</td>\n      <td>...</td>\n    </tr>\n    <tr>\n      <th>13235</th>\n      <td>1</td>\n      <td>95338</td>\n      <td>@USER Sometimes I get strong vibes from people...</td>\n      <td>1</td>\n    </tr>\n    <tr>\n      <th>13236</th>\n      <td>1</td>\n      <td>67210</td>\n      <td>Benidorm ✅  Creamfields ✅  Maga ✅   Not too sh...</td>\n      <td>1</td>\n    </tr>\n    <tr>\n      <th>13237</th>\n      <td>1</td>\n      <td>82921</td>\n      <td>@USER And why report this garbage.  We don't g...</td>\n      <td>1</td>\n    </tr>\n    <tr>\n      <th>13238</th>\n      <td>1</td>\n      <td>27429</td>\n      <td>@USER Pussy</td>\n      <td>1</td>\n    </tr>\n    <tr>\n      <th>13239</th>\n      <td>1</td>\n      <td>46552</td>\n      <td>#Spanishrevenge vs. #justice #HumanRights and ...</td>\n      <td>1</td>\n    </tr>\n  </tbody>\n</table>\n<p>13240 rows × 4 columns</p>\n</div>"
     },
     "execution_count": 33,
     "metadata": {},
     "output_type": "execute_result"
    }
   ],
   "source": [
    "table_text"
   ],
   "metadata": {
    "collapsed": false,
    "ExecuteTime": {
     "end_time": "2024-04-22T00:24:58.815967900Z",
     "start_time": "2024-04-22T00:24:58.791969400Z"
    }
   }
  },
  {
   "cell_type": "markdown",
   "source": [
    "Create Table ***label***"
   ],
   "metadata": {
    "collapsed": false
   }
  },
  {
   "cell_type": "code",
   "execution_count": 44,
   "outputs": [],
   "source": [
    "table_label = pd.DataFrame(columns = ['dataset_id', 'text_id', 'label_name', 'label_value'])"
   ],
   "metadata": {
    "collapsed": false,
    "ExecuteTime": {
     "end_time": "2024-04-22T00:42:31.102425900Z",
     "start_time": "2024-04-22T00:42:31.088544400Z"
    }
   }
  },
  {
   "cell_type": "code",
   "execution_count": 45,
   "outputs": [
    {
     "data": {
      "text/plain": "Empty DataFrame\nColumns: [dataset_id, text_id, label_name, label_value]\nIndex: []",
      "text/html": "<div>\n<style scoped>\n    .dataframe tbody tr th:only-of-type {\n        vertical-align: middle;\n    }\n\n    .dataframe tbody tr th {\n        vertical-align: top;\n    }\n\n    .dataframe thead th {\n        text-align: right;\n    }\n</style>\n<table border=\"1\" class=\"dataframe\">\n  <thead>\n    <tr style=\"text-align: right;\">\n      <th></th>\n      <th>dataset_id</th>\n      <th>text_id</th>\n      <th>label_name</th>\n      <th>label_value</th>\n    </tr>\n  </thead>\n  <tbody>\n  </tbody>\n</table>\n</div>"
     },
     "execution_count": 45,
     "metadata": {},
     "output_type": "execute_result"
    }
   ],
   "source": [
    "table_label"
   ],
   "metadata": {
    "collapsed": false,
    "ExecuteTime": {
     "end_time": "2024-04-22T00:42:31.418192600Z",
     "start_time": "2024-04-22T00:42:31.405192300Z"
    }
   }
  },
  {
   "cell_type": "code",
   "execution_count": 46,
   "outputs": [],
   "source": [
    "for col in label_columns:\n",
    "    label_value_pair = {\n",
    "    'dataset_id': df['dataset_id'].values,\n",
    "    'text_id': df['text_id'].values,\n",
    "    'label_name': [col] * len(df),\n",
    "    'label_value': df[col].values\n",
    "    }\n",
    "    temp_df =  pd.DataFrame(label_value_pair)\n",
    "    table_label = pd.concat([table_label, temp_df], axis=0, ignore_index=True)\n"
   ],
   "metadata": {
    "collapsed": false,
    "ExecuteTime": {
     "end_time": "2024-04-22T00:42:31.769133400Z",
     "start_time": "2024-04-22T00:42:31.750677Z"
    }
   }
  },
  {
   "cell_type": "code",
   "execution_count": 47,
   "outputs": [
    {
     "data": {
      "text/plain": "      dataset_id text_id label_name label_value\n0              1   86426  subtask_a         OFF\n1              1   90194  subtask_a         OFF\n2              1   16820  subtask_a         NOT\n3              1   62688  subtask_a         OFF\n4              1   43605  subtask_a         NOT\n...          ...     ...        ...         ...\n39715          1   95338  subtask_c         IND\n39716          1   67210  subtask_c         NaN\n39717          1   82921  subtask_c         OTH\n39718          1   27429  subtask_c         NaN\n39719          1   46552  subtask_c         NaN\n\n[39720 rows x 4 columns]",
      "text/html": "<div>\n<style scoped>\n    .dataframe tbody tr th:only-of-type {\n        vertical-align: middle;\n    }\n\n    .dataframe tbody tr th {\n        vertical-align: top;\n    }\n\n    .dataframe thead th {\n        text-align: right;\n    }\n</style>\n<table border=\"1\" class=\"dataframe\">\n  <thead>\n    <tr style=\"text-align: right;\">\n      <th></th>\n      <th>dataset_id</th>\n      <th>text_id</th>\n      <th>label_name</th>\n      <th>label_value</th>\n    </tr>\n  </thead>\n  <tbody>\n    <tr>\n      <th>0</th>\n      <td>1</td>\n      <td>86426</td>\n      <td>subtask_a</td>\n      <td>OFF</td>\n    </tr>\n    <tr>\n      <th>1</th>\n      <td>1</td>\n      <td>90194</td>\n      <td>subtask_a</td>\n      <td>OFF</td>\n    </tr>\n    <tr>\n      <th>2</th>\n      <td>1</td>\n      <td>16820</td>\n      <td>subtask_a</td>\n      <td>NOT</td>\n    </tr>\n    <tr>\n      <th>3</th>\n      <td>1</td>\n      <td>62688</td>\n      <td>subtask_a</td>\n      <td>OFF</td>\n    </tr>\n    <tr>\n      <th>4</th>\n      <td>1</td>\n      <td>43605</td>\n      <td>subtask_a</td>\n      <td>NOT</td>\n    </tr>\n    <tr>\n      <th>...</th>\n      <td>...</td>\n      <td>...</td>\n      <td>...</td>\n      <td>...</td>\n    </tr>\n    <tr>\n      <th>39715</th>\n      <td>1</td>\n      <td>95338</td>\n      <td>subtask_c</td>\n      <td>IND</td>\n    </tr>\n    <tr>\n      <th>39716</th>\n      <td>1</td>\n      <td>67210</td>\n      <td>subtask_c</td>\n      <td>NaN</td>\n    </tr>\n    <tr>\n      <th>39717</th>\n      <td>1</td>\n      <td>82921</td>\n      <td>subtask_c</td>\n      <td>OTH</td>\n    </tr>\n    <tr>\n      <th>39718</th>\n      <td>1</td>\n      <td>27429</td>\n      <td>subtask_c</td>\n      <td>NaN</td>\n    </tr>\n    <tr>\n      <th>39719</th>\n      <td>1</td>\n      <td>46552</td>\n      <td>subtask_c</td>\n      <td>NaN</td>\n    </tr>\n  </tbody>\n</table>\n<p>39720 rows × 4 columns</p>\n</div>"
     },
     "execution_count": 47,
     "metadata": {},
     "output_type": "execute_result"
    }
   ],
   "source": [
    "table_label"
   ],
   "metadata": {
    "collapsed": false,
    "ExecuteTime": {
     "end_time": "2024-04-22T00:42:32.275039300Z",
     "start_time": "2024-04-22T00:42:32.253043Z"
    }
   }
  },
  {
   "cell_type": "code",
   "execution_count": 43,
   "outputs": [],
   "source": [],
   "metadata": {
    "collapsed": false,
    "ExecuteTime": {
     "end_time": "2024-04-22T00:42:26.773532800Z",
     "start_time": "2024-04-22T00:42:26.769447500Z"
    }
   }
  },
  {
   "cell_type": "code",
   "execution_count": null,
   "outputs": [],
   "source": [],
   "metadata": {
    "collapsed": false
   }
  }
 ],
 "metadata": {
  "kernelspec": {
   "display_name": "Python 3",
   "language": "python",
   "name": "python3"
  },
  "language_info": {
   "codemirror_mode": {
    "name": "ipython",
    "version": 2
   },
   "file_extension": ".py",
   "mimetype": "text/x-python",
   "name": "python",
   "nbconvert_exporter": "python",
   "pygments_lexer": "ipython2",
   "version": "2.7.6"
  }
 },
 "nbformat": 4,
 "nbformat_minor": 0
}
