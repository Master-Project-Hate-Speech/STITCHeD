{
 "cells": [
  {
   "cell_type": "code",
   "execution_count": 3,
   "metadata": {
    "collapsed": true,
    "ExecuteTime": {
     "end_time": "2024-04-22T01:18:53.632926600Z",
     "start_time": "2024-04-22T01:18:53.617303300Z"
    }
   },
   "outputs": [],
   "source": [
    "import numpy as np\n",
    "import pandas as pd"
   ]
  },
  {
   "cell_type": "code",
   "execution_count": 4,
   "outputs": [
    {
     "data": {
      "text/plain": "          id                                              tweet subtask_a  \\\n0      86426  @USER She should ask a few native Americans wh...       OFF   \n1      90194  @USER @USER Go home you’re drunk!!! @USER #MAG...       OFF   \n2      16820  Amazon is investigating Chinese employees who ...       NOT   \n3      62688  @USER Someone should'veTaken\" this piece of sh...       OFF   \n4      43605  @USER @USER Obama wanted liberals &amp; illega...       NOT   \n...      ...                                                ...       ...   \n13235  95338  @USER Sometimes I get strong vibes from people...       OFF   \n13236  67210  Benidorm ✅  Creamfields ✅  Maga ✅   Not too sh...       NOT   \n13237  82921  @USER And why report this garbage.  We don't g...       OFF   \n13238  27429                                        @USER Pussy       OFF   \n13239  46552  #Spanishrevenge vs. #justice #HumanRights and ...       NOT   \n\n      subtask_b subtask_c  \n0           UNT       NaN  \n1           TIN       IND  \n2           NaN       NaN  \n3           UNT       NaN  \n4           NaN       NaN  \n...         ...       ...  \n13235       TIN       IND  \n13236       NaN       NaN  \n13237       TIN       OTH  \n13238       UNT       NaN  \n13239       NaN       NaN  \n\n[13240 rows x 5 columns]",
      "text/html": "<div>\n<style scoped>\n    .dataframe tbody tr th:only-of-type {\n        vertical-align: middle;\n    }\n\n    .dataframe tbody tr th {\n        vertical-align: top;\n    }\n\n    .dataframe thead th {\n        text-align: right;\n    }\n</style>\n<table border=\"1\" class=\"dataframe\">\n  <thead>\n    <tr style=\"text-align: right;\">\n      <th></th>\n      <th>id</th>\n      <th>tweet</th>\n      <th>subtask_a</th>\n      <th>subtask_b</th>\n      <th>subtask_c</th>\n    </tr>\n  </thead>\n  <tbody>\n    <tr>\n      <th>0</th>\n      <td>86426</td>\n      <td>@USER She should ask a few native Americans wh...</td>\n      <td>OFF</td>\n      <td>UNT</td>\n      <td>NaN</td>\n    </tr>\n    <tr>\n      <th>1</th>\n      <td>90194</td>\n      <td>@USER @USER Go home you’re drunk!!! @USER #MAG...</td>\n      <td>OFF</td>\n      <td>TIN</td>\n      <td>IND</td>\n    </tr>\n    <tr>\n      <th>2</th>\n      <td>16820</td>\n      <td>Amazon is investigating Chinese employees who ...</td>\n      <td>NOT</td>\n      <td>NaN</td>\n      <td>NaN</td>\n    </tr>\n    <tr>\n      <th>3</th>\n      <td>62688</td>\n      <td>@USER Someone should'veTaken\" this piece of sh...</td>\n      <td>OFF</td>\n      <td>UNT</td>\n      <td>NaN</td>\n    </tr>\n    <tr>\n      <th>4</th>\n      <td>43605</td>\n      <td>@USER @USER Obama wanted liberals &amp;amp; illega...</td>\n      <td>NOT</td>\n      <td>NaN</td>\n      <td>NaN</td>\n    </tr>\n    <tr>\n      <th>...</th>\n      <td>...</td>\n      <td>...</td>\n      <td>...</td>\n      <td>...</td>\n      <td>...</td>\n    </tr>\n    <tr>\n      <th>13235</th>\n      <td>95338</td>\n      <td>@USER Sometimes I get strong vibes from people...</td>\n      <td>OFF</td>\n      <td>TIN</td>\n      <td>IND</td>\n    </tr>\n    <tr>\n      <th>13236</th>\n      <td>67210</td>\n      <td>Benidorm ✅  Creamfields ✅  Maga ✅   Not too sh...</td>\n      <td>NOT</td>\n      <td>NaN</td>\n      <td>NaN</td>\n    </tr>\n    <tr>\n      <th>13237</th>\n      <td>82921</td>\n      <td>@USER And why report this garbage.  We don't g...</td>\n      <td>OFF</td>\n      <td>TIN</td>\n      <td>OTH</td>\n    </tr>\n    <tr>\n      <th>13238</th>\n      <td>27429</td>\n      <td>@USER Pussy</td>\n      <td>OFF</td>\n      <td>UNT</td>\n      <td>NaN</td>\n    </tr>\n    <tr>\n      <th>13239</th>\n      <td>46552</td>\n      <td>#Spanishrevenge vs. #justice #HumanRights and ...</td>\n      <td>NOT</td>\n      <td>NaN</td>\n      <td>NaN</td>\n    </tr>\n  </tbody>\n</table>\n<p>13240 rows × 5 columns</p>\n</div>"
     },
     "execution_count": 4,
     "metadata": {},
     "output_type": "execute_result"
    }
   ],
   "source": [
    "df = pd.read_csv(\"./OLID_2019/olid-training-v1.0.tsv\", sep=\"\\t\")\n",
    "df"
   ],
   "metadata": {
    "collapsed": false,
    "ExecuteTime": {
     "end_time": "2024-04-22T01:18:54.154515Z",
     "start_time": "2024-04-22T01:18:54.013110200Z"
    }
   }
  },
  {
   "cell_type": "markdown",
   "source": [
    "### Configuration"
   ],
   "metadata": {
    "collapsed": false
   }
  },
  {
   "cell_type": "code",
   "execution_count": 5,
   "outputs": [],
   "source": [
    "## information we need to know from Config file\n",
    "dataset_id = 1\n",
    "label_columns = [\"subtask_a\", \"subtask_b\", \"subtask_c\"]\n",
    "source_id = 1"
   ],
   "metadata": {
    "collapsed": false,
    "ExecuteTime": {
     "end_time": "2024-04-22T01:18:56.390574300Z",
     "start_time": "2024-04-22T01:18:56.374976500Z"
    }
   }
  },
  {
   "cell_type": "markdown",
   "source": [
    "Create table ***Schema***"
   ],
   "metadata": {
    "collapsed": false
   }
  },
  {
   "cell_type": "code",
   "execution_count": 6,
   "outputs": [],
   "source": [
    "# Create a DataFrame with the specified columns\n",
    "data = {\n",
    "    \"dataset_id\": [dataset_id] * len(label_columns),  # Repeat dataset_id for each label column\n",
    "    \"label_name\": label_columns\n",
    "}\n",
    "\n",
    "table_schema = pd.DataFrame(data)"
   ],
   "metadata": {
    "collapsed": false,
    "ExecuteTime": {
     "end_time": "2024-04-22T01:18:59.053832500Z",
     "start_time": "2024-04-22T01:18:59.038149500Z"
    }
   }
  },
  {
   "cell_type": "code",
   "execution_count": 7,
   "outputs": [
    {
     "data": {
      "text/plain": "   dataset_id label_name\n0           1  subtask_a\n1           1  subtask_b\n2           1  subtask_c",
      "text/html": "<div>\n<style scoped>\n    .dataframe tbody tr th:only-of-type {\n        vertical-align: middle;\n    }\n\n    .dataframe tbody tr th {\n        vertical-align: top;\n    }\n\n    .dataframe thead th {\n        text-align: right;\n    }\n</style>\n<table border=\"1\" class=\"dataframe\">\n  <thead>\n    <tr style=\"text-align: right;\">\n      <th></th>\n      <th>dataset_id</th>\n      <th>label_name</th>\n    </tr>\n  </thead>\n  <tbody>\n    <tr>\n      <th>0</th>\n      <td>1</td>\n      <td>subtask_a</td>\n    </tr>\n    <tr>\n      <th>1</th>\n      <td>1</td>\n      <td>subtask_b</td>\n    </tr>\n    <tr>\n      <th>2</th>\n      <td>1</td>\n      <td>subtask_c</td>\n    </tr>\n  </tbody>\n</table>\n</div>"
     },
     "execution_count": 7,
     "metadata": {},
     "output_type": "execute_result"
    }
   ],
   "source": [
    "table_schema"
   ],
   "metadata": {
    "collapsed": false,
    "ExecuteTime": {
     "end_time": "2024-04-22T01:18:59.943535400Z",
     "start_time": "2024-04-22T01:18:59.927872300Z"
    }
   }
  },
  {
   "cell_type": "code",
   "execution_count": 8,
   "outputs": [],
   "source": [
    "df[\"dataset_id\"] = dataset_id\n",
    "df.rename(columns={'id': 'text_id',\n",
    "                   'tweet':'text'\n",
    "                   }, inplace=True)\n"
   ],
   "metadata": {
    "collapsed": false,
    "ExecuteTime": {
     "end_time": "2024-04-22T01:19:04.283537800Z",
     "start_time": "2024-04-22T01:19:04.263341200Z"
    }
   }
  },
  {
   "cell_type": "code",
   "execution_count": 9,
   "outputs": [
    {
     "data": {
      "text/plain": "       text_id                                               text subtask_a  \\\n0        86426  @USER She should ask a few native Americans wh...       OFF   \n1        90194  @USER @USER Go home you’re drunk!!! @USER #MAG...       OFF   \n2        16820  Amazon is investigating Chinese employees who ...       NOT   \n3        62688  @USER Someone should'veTaken\" this piece of sh...       OFF   \n4        43605  @USER @USER Obama wanted liberals &amp; illega...       NOT   \n...        ...                                                ...       ...   \n13235    95338  @USER Sometimes I get strong vibes from people...       OFF   \n13236    67210  Benidorm ✅  Creamfields ✅  Maga ✅   Not too sh...       NOT   \n13237    82921  @USER And why report this garbage.  We don't g...       OFF   \n13238    27429                                        @USER Pussy       OFF   \n13239    46552  #Spanishrevenge vs. #justice #HumanRights and ...       NOT   \n\n      subtask_b subtask_c  dataset_id  \n0           UNT       NaN           1  \n1           TIN       IND           1  \n2           NaN       NaN           1  \n3           UNT       NaN           1  \n4           NaN       NaN           1  \n...         ...       ...         ...  \n13235       TIN       IND           1  \n13236       NaN       NaN           1  \n13237       TIN       OTH           1  \n13238       UNT       NaN           1  \n13239       NaN       NaN           1  \n\n[13240 rows x 6 columns]",
      "text/html": "<div>\n<style scoped>\n    .dataframe tbody tr th:only-of-type {\n        vertical-align: middle;\n    }\n\n    .dataframe tbody tr th {\n        vertical-align: top;\n    }\n\n    .dataframe thead th {\n        text-align: right;\n    }\n</style>\n<table border=\"1\" class=\"dataframe\">\n  <thead>\n    <tr style=\"text-align: right;\">\n      <th></th>\n      <th>text_id</th>\n      <th>text</th>\n      <th>subtask_a</th>\n      <th>subtask_b</th>\n      <th>subtask_c</th>\n      <th>dataset_id</th>\n    </tr>\n  </thead>\n  <tbody>\n    <tr>\n      <th>0</th>\n      <td>86426</td>\n      <td>@USER She should ask a few native Americans wh...</td>\n      <td>OFF</td>\n      <td>UNT</td>\n      <td>NaN</td>\n      <td>1</td>\n    </tr>\n    <tr>\n      <th>1</th>\n      <td>90194</td>\n      <td>@USER @USER Go home you’re drunk!!! @USER #MAG...</td>\n      <td>OFF</td>\n      <td>TIN</td>\n      <td>IND</td>\n      <td>1</td>\n    </tr>\n    <tr>\n      <th>2</th>\n      <td>16820</td>\n      <td>Amazon is investigating Chinese employees who ...</td>\n      <td>NOT</td>\n      <td>NaN</td>\n      <td>NaN</td>\n      <td>1</td>\n    </tr>\n    <tr>\n      <th>3</th>\n      <td>62688</td>\n      <td>@USER Someone should'veTaken\" this piece of sh...</td>\n      <td>OFF</td>\n      <td>UNT</td>\n      <td>NaN</td>\n      <td>1</td>\n    </tr>\n    <tr>\n      <th>4</th>\n      <td>43605</td>\n      <td>@USER @USER Obama wanted liberals &amp;amp; illega...</td>\n      <td>NOT</td>\n      <td>NaN</td>\n      <td>NaN</td>\n      <td>1</td>\n    </tr>\n    <tr>\n      <th>...</th>\n      <td>...</td>\n      <td>...</td>\n      <td>...</td>\n      <td>...</td>\n      <td>...</td>\n      <td>...</td>\n    </tr>\n    <tr>\n      <th>13235</th>\n      <td>95338</td>\n      <td>@USER Sometimes I get strong vibes from people...</td>\n      <td>OFF</td>\n      <td>TIN</td>\n      <td>IND</td>\n      <td>1</td>\n    </tr>\n    <tr>\n      <th>13236</th>\n      <td>67210</td>\n      <td>Benidorm ✅  Creamfields ✅  Maga ✅   Not too sh...</td>\n      <td>NOT</td>\n      <td>NaN</td>\n      <td>NaN</td>\n      <td>1</td>\n    </tr>\n    <tr>\n      <th>13237</th>\n      <td>82921</td>\n      <td>@USER And why report this garbage.  We don't g...</td>\n      <td>OFF</td>\n      <td>TIN</td>\n      <td>OTH</td>\n      <td>1</td>\n    </tr>\n    <tr>\n      <th>13238</th>\n      <td>27429</td>\n      <td>@USER Pussy</td>\n      <td>OFF</td>\n      <td>UNT</td>\n      <td>NaN</td>\n      <td>1</td>\n    </tr>\n    <tr>\n      <th>13239</th>\n      <td>46552</td>\n      <td>#Spanishrevenge vs. #justice #HumanRights and ...</td>\n      <td>NOT</td>\n      <td>NaN</td>\n      <td>NaN</td>\n      <td>1</td>\n    </tr>\n  </tbody>\n</table>\n<p>13240 rows × 6 columns</p>\n</div>"
     },
     "execution_count": 9,
     "metadata": {},
     "output_type": "execute_result"
    }
   ],
   "source": [
    "df"
   ],
   "metadata": {
    "collapsed": false,
    "ExecuteTime": {
     "end_time": "2024-04-22T01:19:05.128795500Z",
     "start_time": "2024-04-22T01:19:05.084954800Z"
    }
   }
  },
  {
   "cell_type": "markdown",
   "source": [
    "Create Table ***text***"
   ],
   "metadata": {
    "collapsed": false
   }
  },
  {
   "cell_type": "code",
   "execution_count": 10,
   "outputs": [],
   "source": [
    "table_text = df[['dataset_id', 'text_id', 'text']].drop_duplicates()"
   ],
   "metadata": {
    "collapsed": false,
    "ExecuteTime": {
     "end_time": "2024-04-22T01:19:06.932923100Z",
     "start_time": "2024-04-22T01:19:06.897028100Z"
    }
   }
  },
  {
   "cell_type": "code",
   "execution_count": 11,
   "outputs": [],
   "source": [
    "table_text['source_id'] = source_id"
   ],
   "metadata": {
    "collapsed": false,
    "ExecuteTime": {
     "end_time": "2024-04-22T01:19:07.927624600Z",
     "start_time": "2024-04-22T01:19:07.912028100Z"
    }
   }
  },
  {
   "cell_type": "code",
   "execution_count": 12,
   "outputs": [
    {
     "data": {
      "text/plain": "       dataset_id  text_id                                               text  \\\n0               1    86426  @USER She should ask a few native Americans wh...   \n1               1    90194  @USER @USER Go home you’re drunk!!! @USER #MAG...   \n2               1    16820  Amazon is investigating Chinese employees who ...   \n3               1    62688  @USER Someone should'veTaken\" this piece of sh...   \n4               1    43605  @USER @USER Obama wanted liberals &amp; illega...   \n...           ...      ...                                                ...   \n13235           1    95338  @USER Sometimes I get strong vibes from people...   \n13236           1    67210  Benidorm ✅  Creamfields ✅  Maga ✅   Not too sh...   \n13237           1    82921  @USER And why report this garbage.  We don't g...   \n13238           1    27429                                        @USER Pussy   \n13239           1    46552  #Spanishrevenge vs. #justice #HumanRights and ...   \n\n       source_id  \n0              1  \n1              1  \n2              1  \n3              1  \n4              1  \n...          ...  \n13235          1  \n13236          1  \n13237          1  \n13238          1  \n13239          1  \n\n[13240 rows x 4 columns]",
      "text/html": "<div>\n<style scoped>\n    .dataframe tbody tr th:only-of-type {\n        vertical-align: middle;\n    }\n\n    .dataframe tbody tr th {\n        vertical-align: top;\n    }\n\n    .dataframe thead th {\n        text-align: right;\n    }\n</style>\n<table border=\"1\" class=\"dataframe\">\n  <thead>\n    <tr style=\"text-align: right;\">\n      <th></th>\n      <th>dataset_id</th>\n      <th>text_id</th>\n      <th>text</th>\n      <th>source_id</th>\n    </tr>\n  </thead>\n  <tbody>\n    <tr>\n      <th>0</th>\n      <td>1</td>\n      <td>86426</td>\n      <td>@USER She should ask a few native Americans wh...</td>\n      <td>1</td>\n    </tr>\n    <tr>\n      <th>1</th>\n      <td>1</td>\n      <td>90194</td>\n      <td>@USER @USER Go home you’re drunk!!! @USER #MAG...</td>\n      <td>1</td>\n    </tr>\n    <tr>\n      <th>2</th>\n      <td>1</td>\n      <td>16820</td>\n      <td>Amazon is investigating Chinese employees who ...</td>\n      <td>1</td>\n    </tr>\n    <tr>\n      <th>3</th>\n      <td>1</td>\n      <td>62688</td>\n      <td>@USER Someone should'veTaken\" this piece of sh...</td>\n      <td>1</td>\n    </tr>\n    <tr>\n      <th>4</th>\n      <td>1</td>\n      <td>43605</td>\n      <td>@USER @USER Obama wanted liberals &amp;amp; illega...</td>\n      <td>1</td>\n    </tr>\n    <tr>\n      <th>...</th>\n      <td>...</td>\n      <td>...</td>\n      <td>...</td>\n      <td>...</td>\n    </tr>\n    <tr>\n      <th>13235</th>\n      <td>1</td>\n      <td>95338</td>\n      <td>@USER Sometimes I get strong vibes from people...</td>\n      <td>1</td>\n    </tr>\n    <tr>\n      <th>13236</th>\n      <td>1</td>\n      <td>67210</td>\n      <td>Benidorm ✅  Creamfields ✅  Maga ✅   Not too sh...</td>\n      <td>1</td>\n    </tr>\n    <tr>\n      <th>13237</th>\n      <td>1</td>\n      <td>82921</td>\n      <td>@USER And why report this garbage.  We don't g...</td>\n      <td>1</td>\n    </tr>\n    <tr>\n      <th>13238</th>\n      <td>1</td>\n      <td>27429</td>\n      <td>@USER Pussy</td>\n      <td>1</td>\n    </tr>\n    <tr>\n      <th>13239</th>\n      <td>1</td>\n      <td>46552</td>\n      <td>#Spanishrevenge vs. #justice #HumanRights and ...</td>\n      <td>1</td>\n    </tr>\n  </tbody>\n</table>\n<p>13240 rows × 4 columns</p>\n</div>"
     },
     "execution_count": 12,
     "metadata": {},
     "output_type": "execute_result"
    }
   ],
   "source": [
    "table_text"
   ],
   "metadata": {
    "collapsed": false,
    "ExecuteTime": {
     "end_time": "2024-04-22T01:19:08.374293600Z",
     "start_time": "2024-04-22T01:19:08.347558600Z"
    }
   }
  },
  {
   "cell_type": "markdown",
   "source": [
    "Create Table ***label***"
   ],
   "metadata": {
    "collapsed": false
   }
  },
  {
   "cell_type": "code",
   "execution_count": 13,
   "outputs": [],
   "source": [
    "table_label = pd.DataFrame(columns = ['dataset_id', 'text_id', 'label_name', 'label_value'])"
   ],
   "metadata": {
    "collapsed": false,
    "ExecuteTime": {
     "end_time": "2024-04-22T01:19:10.601402300Z",
     "start_time": "2024-04-22T01:19:10.585779600Z"
    }
   }
  },
  {
   "cell_type": "code",
   "execution_count": 14,
   "outputs": [
    {
     "data": {
      "text/plain": "Empty DataFrame\nColumns: [dataset_id, text_id, label_name, label_value]\nIndex: []",
      "text/html": "<div>\n<style scoped>\n    .dataframe tbody tr th:only-of-type {\n        vertical-align: middle;\n    }\n\n    .dataframe tbody tr th {\n        vertical-align: top;\n    }\n\n    .dataframe thead th {\n        text-align: right;\n    }\n</style>\n<table border=\"1\" class=\"dataframe\">\n  <thead>\n    <tr style=\"text-align: right;\">\n      <th></th>\n      <th>dataset_id</th>\n      <th>text_id</th>\n      <th>label_name</th>\n      <th>label_value</th>\n    </tr>\n  </thead>\n  <tbody>\n  </tbody>\n</table>\n</div>"
     },
     "execution_count": 14,
     "metadata": {},
     "output_type": "execute_result"
    }
   ],
   "source": [
    "table_label"
   ],
   "metadata": {
    "collapsed": false,
    "ExecuteTime": {
     "end_time": "2024-04-22T01:19:10.945450700Z",
     "start_time": "2024-04-22T01:19:10.922642700Z"
    }
   }
  },
  {
   "cell_type": "code",
   "execution_count": 15,
   "outputs": [],
   "source": [
    "for col in label_columns:\n",
    "    label_value_pair = {\n",
    "    'dataset_id': df['dataset_id'].values,\n",
    "    'text_id': df['text_id'].values,\n",
    "    'label_name': [col] * len(df),\n",
    "    'label_value': df[col].values\n",
    "    }\n",
    "    temp_df =  pd.DataFrame(label_value_pair)\n",
    "    table_label = pd.concat([table_label, temp_df], axis=0, ignore_index=True)\n"
   ],
   "metadata": {
    "collapsed": false,
    "ExecuteTime": {
     "end_time": "2024-04-22T01:19:11.610755600Z",
     "start_time": "2024-04-22T01:19:11.595082700Z"
    }
   }
  },
  {
   "cell_type": "code",
   "execution_count": 16,
   "outputs": [
    {
     "data": {
      "text/plain": "      dataset_id text_id label_name label_value\n0              1   86426  subtask_a         OFF\n1              1   90194  subtask_a         OFF\n2              1   16820  subtask_a         NOT\n3              1   62688  subtask_a         OFF\n4              1   43605  subtask_a         NOT\n...          ...     ...        ...         ...\n39715          1   95338  subtask_c         IND\n39716          1   67210  subtask_c         NaN\n39717          1   82921  subtask_c         OTH\n39718          1   27429  subtask_c         NaN\n39719          1   46552  subtask_c         NaN\n\n[39720 rows x 4 columns]",
      "text/html": "<div>\n<style scoped>\n    .dataframe tbody tr th:only-of-type {\n        vertical-align: middle;\n    }\n\n    .dataframe tbody tr th {\n        vertical-align: top;\n    }\n\n    .dataframe thead th {\n        text-align: right;\n    }\n</style>\n<table border=\"1\" class=\"dataframe\">\n  <thead>\n    <tr style=\"text-align: right;\">\n      <th></th>\n      <th>dataset_id</th>\n      <th>text_id</th>\n      <th>label_name</th>\n      <th>label_value</th>\n    </tr>\n  </thead>\n  <tbody>\n    <tr>\n      <th>0</th>\n      <td>1</td>\n      <td>86426</td>\n      <td>subtask_a</td>\n      <td>OFF</td>\n    </tr>\n    <tr>\n      <th>1</th>\n      <td>1</td>\n      <td>90194</td>\n      <td>subtask_a</td>\n      <td>OFF</td>\n    </tr>\n    <tr>\n      <th>2</th>\n      <td>1</td>\n      <td>16820</td>\n      <td>subtask_a</td>\n      <td>NOT</td>\n    </tr>\n    <tr>\n      <th>3</th>\n      <td>1</td>\n      <td>62688</td>\n      <td>subtask_a</td>\n      <td>OFF</td>\n    </tr>\n    <tr>\n      <th>4</th>\n      <td>1</td>\n      <td>43605</td>\n      <td>subtask_a</td>\n      <td>NOT</td>\n    </tr>\n    <tr>\n      <th>...</th>\n      <td>...</td>\n      <td>...</td>\n      <td>...</td>\n      <td>...</td>\n    </tr>\n    <tr>\n      <th>39715</th>\n      <td>1</td>\n      <td>95338</td>\n      <td>subtask_c</td>\n      <td>IND</td>\n    </tr>\n    <tr>\n      <th>39716</th>\n      <td>1</td>\n      <td>67210</td>\n      <td>subtask_c</td>\n      <td>NaN</td>\n    </tr>\n    <tr>\n      <th>39717</th>\n      <td>1</td>\n      <td>82921</td>\n      <td>subtask_c</td>\n      <td>OTH</td>\n    </tr>\n    <tr>\n      <th>39718</th>\n      <td>1</td>\n      <td>27429</td>\n      <td>subtask_c</td>\n      <td>NaN</td>\n    </tr>\n    <tr>\n      <th>39719</th>\n      <td>1</td>\n      <td>46552</td>\n      <td>subtask_c</td>\n      <td>NaN</td>\n    </tr>\n  </tbody>\n</table>\n<p>39720 rows × 4 columns</p>\n</div>"
     },
     "execution_count": 16,
     "metadata": {},
     "output_type": "execute_result"
    }
   ],
   "source": [
    "table_label"
   ],
   "metadata": {
    "collapsed": false,
    "ExecuteTime": {
     "end_time": "2024-04-22T01:19:12.106533300Z",
     "start_time": "2024-04-22T01:19:12.090856400Z"
    }
   }
  },
  {
   "cell_type": "markdown",
   "source": [
    "### To-be-discussed"
   ],
   "metadata": {
    "collapsed": false
   }
  },
  {
   "cell_type": "markdown",
   "source": [
    "1. What to include in the Config JSON file, in which format?\n",
    "2. How to handle the data source, also ask the user to include in the config file?\n",
    "    - When coming from different sources?\n",
    "3. label explaination\n",
    "    - as a tuple in the config file (label_name, label_explaination), or?"
   ],
   "metadata": {
    "collapsed": false
   }
  },
  {
   "cell_type": "code",
   "execution_count": null,
   "outputs": [],
   "source": [],
   "metadata": {
    "collapsed": false
   }
  }
 ],
 "metadata": {
  "kernelspec": {
   "display_name": "Python 3",
   "language": "python",
   "name": "python3"
  },
  "language_info": {
   "codemirror_mode": {
    "name": "ipython",
    "version": 2
   },
   "file_extension": ".py",
   "mimetype": "text/x-python",
   "name": "python",
   "nbconvert_exporter": "python",
   "pygments_lexer": "ipython2",
   "version": "2.7.6"
  }
 },
 "nbformat": 4,
 "nbformat_minor": 0
}
