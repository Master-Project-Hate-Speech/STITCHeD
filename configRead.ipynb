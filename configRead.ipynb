{
 "cells": [
  {
   "cell_type": "code",
   "execution_count": 114,
   "metadata": {
    "collapsed": true,
    "ExecuteTime": {
     "end_time": "2024-05-08T15:09:21.723145500Z",
     "start_time": "2024-05-08T15:09:21.710149400Z"
    }
   },
   "outputs": [],
   "source": [
    "import numpy as np\n",
    "import pandas as pd\n",
    "import os\n",
    "\n",
    "import re\n",
    "import json"
   ]
  },
  {
   "cell_type": "markdown",
   "source": [
    "Manual for the Config file：\n",
    "- Native `language` Support: e.g. eng, spa, chi, ger, fre, ita, etc (ISO 639-2. ISO 639-2). Add an `@` symbol in-front, e.g. @eng. If of multi-language, provide a column name, e.g. \"languages\".\n",
    "- Source: state a source if it's single platform, e.g. Twitter, Facebook, etc. Add an `@` symbol in-front, e.g. @Twitter. If of multi-source, provide a column name."
   ],
   "metadata": {
    "collapsed": false
   }
  },
  {
   "cell_type": "code",
   "execution_count": 115,
   "outputs": [
    {
     "data": {
      "text/plain": "        dataset_file_name dataset_name  \\\n0  olid-training-v1.0.tsv       OLID19   \n\n                               label_name_definition    source language   text  \n0  {\"subtask_a\": \"Level A: Offensive language ide...  @Twitter     @eng  tweet  ",
      "text/html": "<div>\n<style scoped>\n    .dataframe tbody tr th:only-of-type {\n        vertical-align: middle;\n    }\n\n    .dataframe tbody tr th {\n        vertical-align: top;\n    }\n\n    .dataframe thead th {\n        text-align: right;\n    }\n</style>\n<table border=\"1\" class=\"dataframe\">\n  <thead>\n    <tr style=\"text-align: right;\">\n      <th></th>\n      <th>dataset_file_name</th>\n      <th>dataset_name</th>\n      <th>label_name_definition</th>\n      <th>source</th>\n      <th>language</th>\n      <th>text</th>\n    </tr>\n  </thead>\n  <tbody>\n    <tr>\n      <th>0</th>\n      <td>olid-training-v1.0.tsv</td>\n      <td>OLID19</td>\n      <td>{\"subtask_a\": \"Level A: Offensive language ide...</td>\n      <td>@Twitter</td>\n      <td>@eng</td>\n      <td>tweet</td>\n    </tr>\n  </tbody>\n</table>\n</div>"
     },
     "execution_count": 115,
     "metadata": {},
     "output_type": "execute_result"
    }
   ],
   "source": [
    "df_config =  pd.read_csv(\"config.csv\", sep=';',encoding= \"utf-8\")\n",
    "df_config"
   ],
   "metadata": {
    "collapsed": false,
    "ExecuteTime": {
     "end_time": "2024-05-08T15:09:22.579884Z",
     "start_time": "2024-05-08T15:09:22.563820300Z"
    }
   }
  },
  {
   "cell_type": "code",
   "execution_count": 116,
   "outputs": [
    {
     "data": {
      "text/plain": "['olid-training-v1.0.tsv']"
     },
     "execution_count": 116,
     "metadata": {},
     "output_type": "execute_result"
    }
   ],
   "source": [
    "folder_path = \"./data\"\n",
    "folder_path_file_names = [f for f in os.listdir(folder_path) if os.path.isfile(os.path.join(folder_path, f))]\n",
    "folder_path_file_names"
   ],
   "metadata": {
    "collapsed": false,
    "ExecuteTime": {
     "end_time": "2024-05-08T15:09:23.904468800Z",
     "start_time": "2024-05-08T15:09:23.883129700Z"
    }
   }
  },
  {
   "cell_type": "code",
   "execution_count": 100,
   "outputs": [],
   "source": [
    "config_file_names = df_config.dataset_file_name.tolist()"
   ],
   "metadata": {
    "collapsed": false,
    "ExecuteTime": {
     "end_time": "2024-05-08T15:00:39.227708600Z",
     "start_time": "2024-05-08T15:00:39.204097200Z"
    }
   }
  },
  {
   "cell_type": "code",
   "execution_count": 101,
   "outputs": [
    {
     "name": "stdout",
     "output_type": "stream",
     "text": [
      "Filename integrity check complete!\n"
     ]
    }
   ],
   "source": [
    "assert len(config_file_names) <= len(df_config), \"Number of datasets listed in Config exceeds that in the folder.\"\n",
    "\n",
    "difference_datasets = set(config_file_names) - set(folder_path_file_names)\n",
    "assert len(difference_datasets) == 0, f\"Dataset(s) {difference_datasets} not found in 'data' folder\"\n",
    "print(\"Filename integrity check complete!\")"
   ],
   "metadata": {
    "collapsed": false,
    "ExecuteTime": {
     "end_time": "2024-05-08T15:00:43.440733800Z",
     "start_time": "2024-05-08T15:00:43.432715800Z"
    }
   }
  },
  {
   "cell_type": "markdown",
   "source": [
    "### Row-specific Operation"
   ],
   "metadata": {
    "collapsed": false
   }
  },
  {
   "cell_type": "code",
   "execution_count": 103,
   "outputs": [],
   "source": [
    "label_definition = df_config.label_name_definition[0]\n",
    "\n",
    "language = df_config.language[0]\n",
    "text = df_config.language[0]"
   ],
   "metadata": {
    "collapsed": false,
    "ExecuteTime": {
     "end_time": "2024-05-08T15:01:20.657991Z",
     "start_time": "2024-05-08T15:01:20.647001100Z"
    }
   }
  },
  {
   "cell_type": "code",
   "execution_count": 110,
   "outputs": [],
   "source": [
    "def is_inside_single_quotes(text):\n",
    "    # Regular expression to match text inside single quotes\n",
    "    pattern = r'^\\'.*?\\'$'\n",
    "\n",
    "    # Check if the text matches the pattern\n",
    "    return bool(re.match(pattern, text))"
   ],
   "metadata": {
    "collapsed": false,
    "ExecuteTime": {
     "end_time": "2024-05-08T15:05:59.716796600Z",
     "start_time": "2024-05-08T15:05:59.707832300Z"
    }
   }
  },
  {
   "cell_type": "code",
   "execution_count": 111,
   "outputs": [
    {
     "data": {
      "text/plain": "False"
     },
     "execution_count": 111,
     "metadata": {},
     "output_type": "execute_result"
    }
   ],
   "source": [
    "is_inside_single_quotes(text)"
   ],
   "metadata": {
    "collapsed": false,
    "ExecuteTime": {
     "end_time": "2024-05-08T15:06:00.154111900Z",
     "start_time": "2024-05-08T15:06:00.133112200Z"
    }
   }
  },
  {
   "cell_type": "code",
   "execution_count": 81,
   "outputs": [
    {
     "data": {
      "text/plain": "{'subtask_a': 'Level A: Offensive language identification \\n- (NOT) Not Offensive - This post does not contain offense or profanity. \\n- (OFF) Offensive - This post contains offensive language or a targeted (veiled or direct) offense \\n In our annotation, we label a post as offensive (OFF) if it contains any form of non-acceptable language (profanity) or a targeted offense, which can be veiled or direct. ',\n 'subtask_b': 'Level B: Automatic categorization of offense types - (TIN) Targeted Insult and Threats - A post containing an insult or threat to an individual, a group, or others (see categories in sub-task C). \\n- (UNT) Untargeted - A post containing non-targeted profanity and swearing. \\n Posts containing general profanity are not targeted, but they contain non-acceptable language.',\n 'subtask_c': 'Level C: Offense target identification \\n- (IND) Individual - The target of the offensive post is an individual: a famous person, a named individual or an unnamed person interacting in the conversation. \\n - (GRP) Group - The target of the offensive post is a group of people considered as a unity due to the same ethnicity, gender or sexual orientation, political affiliation, religious belief, or something else.\\n - (OTH) Other – The target of the offensive post does not belong to any of the previous two categories (e.g., an organization, a situation, an event, or an issue)'}"
     },
     "execution_count": 81,
     "metadata": {},
     "output_type": "execute_result"
    }
   ],
   "source": [
    "data_dict = json.loads(label_definition)\n",
    "data_dict"
   ],
   "metadata": {
    "collapsed": false,
    "ExecuteTime": {
     "end_time": "2024-05-08T14:38:07.654670100Z",
     "start_time": "2024-05-08T14:38:07.644670Z"
    }
   }
  },
  {
   "cell_type": "code",
   "execution_count": 86,
   "outputs": [
    {
     "data": {
      "text/plain": "['subtask_a', 'subtask_b', 'subtask_c']"
     },
     "execution_count": 86,
     "metadata": {},
     "output_type": "execute_result"
    }
   ],
   "source": [
    "col_labels = list(data_dict.keys())\n"
   ],
   "metadata": {
    "collapsed": false,
    "ExecuteTime": {
     "end_time": "2024-05-08T14:45:21.018297700Z",
     "start_time": "2024-05-08T14:45:21.002252700Z"
    }
   }
  },
  {
   "cell_type": "code",
   "execution_count": null,
   "outputs": [],
   "source": [
    "for i in config_file_names:\n",
    "    try:\n",
    "        # Try to read the dataset with Pandas\n",
    "        df = pd.read_csv(folder_path + '/' + i, sep=\"\\t\")\n",
    "\n",
    "    except Exception as e:\n",
    "        # If an error occurs, print the error message\n",
    "        print(f\"An error occurred while trying to read the dataset of name {i}:\")\n",
    "        print(e)\n",
    "\n",
    "    print(\"Requested Datasets can be successfully read\")"
   ],
   "metadata": {
    "collapsed": false
   }
  },
  {
   "cell_type": "code",
   "execution_count": null,
   "outputs": [],
   "source": [],
   "metadata": {
    "collapsed": false
   }
  }
 ],
 "metadata": {
  "kernelspec": {
   "display_name": "Python 3",
   "language": "python",
   "name": "python3"
  },
  "language_info": {
   "codemirror_mode": {
    "name": "ipython",
    "version": 2
   },
   "file_extension": ".py",
   "mimetype": "text/x-python",
   "name": "python",
   "nbconvert_exporter": "python",
   "pygments_lexer": "ipython2",
   "version": "2.7.6"
  }
 },
 "nbformat": 4,
 "nbformat_minor": 0
}
